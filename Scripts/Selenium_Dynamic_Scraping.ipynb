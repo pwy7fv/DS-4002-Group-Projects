{
  "nbformat": 4,
  "nbformat_minor": 0,
  "metadata": {
    "colab": {
      "provenance": [],
      "authorship_tag": "ABX9TyOY2AhM5b8Ryk/MWvn53Ib1",
      "include_colab_link": true
    },
    "kernelspec": {
      "name": "python3",
      "display_name": "Python 3"
    },
    "language_info": {
      "name": "python"
    }
  },
  "cells": [
    {
      "cell_type": "markdown",
      "metadata": {
        "id": "view-in-github",
        "colab_type": "text"
      },
      "source": [
        "<a href=\"https://colab.research.google.com/github/pwy7fv/DS-4002-Group-Projects/blob/main/Scripts/Selenium_Dynamic_Scraping.ipynb\" target=\"_parent\"><img src=\"https://colab.research.google.com/assets/colab-badge.svg\" alt=\"Open In Colab\"/></a>"
      ]
    },
    {
      "cell_type": "code",
      "source": [
        "!git clone https://github.com/pwy7fv/DS-4002-Group-Projects"
      ],
      "metadata": {
        "id": "TqSI57Q62WD2",
        "outputId": "96dafdeb-2b50-4cce-b165-6c1c8b73e9b5",
        "colab": {
          "base_uri": "https://localhost:8080/"
        }
      },
      "execution_count": 2,
      "outputs": [
        {
          "output_type": "stream",
          "name": "stdout",
          "text": [
            "Cloning into 'DS-4002-Group-Projects'...\n",
            "remote: Enumerating objects: 104, done.\u001b[K\n",
            "remote: Counting objects: 100% (104/104), done.\u001b[K\n",
            "remote: Compressing objects: 100% (92/92), done.\u001b[K\n",
            "remote: Total 104 (delta 38), reused 0 (delta 0), pack-reused 0 (from 0)\u001b[K\n",
            "Receiving objects: 100% (104/104), 7.12 MiB | 8.57 MiB/s, done.\n",
            "Resolving deltas: 100% (38/38), done.\n"
          ]
        }
      ]
    },
    {
      "cell_type": "code",
      "execution_count": 1,
      "metadata": {
        "id": "wb-iDYMMyutS"
      },
      "outputs": [],
      "source": [
        "import time\n",
        "import numpy as np\n",
        "import matplotlib.pyplot as plt\n",
        "import pandas as pd\n",
        "import seaborn as sns\n",
        "import requests\n",
        "from bs4 import BeautifulSoup"
      ]
    },
    {
      "cell_type": "code",
      "source": [
        "!pip install selenium\n",
        "!apt update\n",
        "!apt install -y chromium-chromedriver"
      ],
      "metadata": {
        "id": "a6V00rm7y-Sf",
        "colab": {
          "base_uri": "https://localhost:8080/"
        },
        "outputId": "fa54a5c3-33ec-4fd4-84d4-f99021c3d80b"
      },
      "execution_count": 3,
      "outputs": [
        {
          "output_type": "stream",
          "name": "stdout",
          "text": [
            "Collecting selenium\n",
            "  Downloading selenium-4.28.1-py3-none-any.whl.metadata (7.1 kB)\n",
            "Requirement already satisfied: urllib3<3,>=1.26 in /usr/local/lib/python3.11/dist-packages (from urllib3[socks]<3,>=1.26->selenium) (2.3.0)\n",
            "Collecting trio~=0.17 (from selenium)\n",
            "  Downloading trio-0.28.0-py3-none-any.whl.metadata (8.5 kB)\n",
            "Collecting trio-websocket~=0.9 (from selenium)\n",
            "  Downloading trio_websocket-0.11.1-py3-none-any.whl.metadata (4.7 kB)\n",
            "Requirement already satisfied: certifi>=2021.10.8 in /usr/local/lib/python3.11/dist-packages (from selenium) (2025.1.31)\n",
            "Requirement already satisfied: typing_extensions~=4.9 in /usr/local/lib/python3.11/dist-packages (from selenium) (4.12.2)\n",
            "Requirement already satisfied: websocket-client~=1.8 in /usr/local/lib/python3.11/dist-packages (from selenium) (1.8.0)\n",
            "Requirement already satisfied: attrs>=23.2.0 in /usr/local/lib/python3.11/dist-packages (from trio~=0.17->selenium) (25.1.0)\n",
            "Collecting sortedcontainers (from trio~=0.17->selenium)\n",
            "  Downloading sortedcontainers-2.4.0-py2.py3-none-any.whl.metadata (10 kB)\n",
            "Requirement already satisfied: idna in /usr/local/lib/python3.11/dist-packages (from trio~=0.17->selenium) (3.10)\n",
            "Collecting outcome (from trio~=0.17->selenium)\n",
            "  Downloading outcome-1.3.0.post0-py2.py3-none-any.whl.metadata (2.6 kB)\n",
            "Requirement already satisfied: sniffio>=1.3.0 in /usr/local/lib/python3.11/dist-packages (from trio~=0.17->selenium) (1.3.1)\n",
            "Collecting wsproto>=0.14 (from trio-websocket~=0.9->selenium)\n",
            "  Downloading wsproto-1.2.0-py3-none-any.whl.metadata (5.6 kB)\n",
            "Requirement already satisfied: pysocks!=1.5.7,<2.0,>=1.5.6 in /usr/local/lib/python3.11/dist-packages (from urllib3[socks]<3,>=1.26->selenium) (1.7.1)\n",
            "Requirement already satisfied: h11<1,>=0.9.0 in /usr/local/lib/python3.11/dist-packages (from wsproto>=0.14->trio-websocket~=0.9->selenium) (0.14.0)\n",
            "Downloading selenium-4.28.1-py3-none-any.whl (9.5 MB)\n",
            "\u001b[2K   \u001b[90m━━━━━━━━━━━━━━━━━━━━━━━━━━━━━━━━━━━━━━━━\u001b[0m \u001b[32m9.5/9.5 MB\u001b[0m \u001b[31m66.0 MB/s\u001b[0m eta \u001b[36m0:00:00\u001b[0m\n",
            "\u001b[?25hDownloading trio-0.28.0-py3-none-any.whl (486 kB)\n",
            "\u001b[2K   \u001b[90m━━━━━━━━━━━━━━━━━━━━━━━━━━━━━━━━━━━━━━━━\u001b[0m \u001b[32m486.3/486.3 kB\u001b[0m \u001b[31m28.6 MB/s\u001b[0m eta \u001b[36m0:00:00\u001b[0m\n",
            "\u001b[?25hDownloading trio_websocket-0.11.1-py3-none-any.whl (17 kB)\n",
            "Downloading wsproto-1.2.0-py3-none-any.whl (24 kB)\n",
            "Downloading outcome-1.3.0.post0-py2.py3-none-any.whl (10 kB)\n",
            "Downloading sortedcontainers-2.4.0-py2.py3-none-any.whl (29 kB)\n",
            "Installing collected packages: sortedcontainers, wsproto, outcome, trio, trio-websocket, selenium\n",
            "Successfully installed outcome-1.3.0.post0 selenium-4.28.1 sortedcontainers-2.4.0 trio-0.28.0 trio-websocket-0.11.1 wsproto-1.2.0\n",
            "Get:1 http://security.ubuntu.com/ubuntu jammy-security InRelease [129 kB]\n",
            "Get:2 https://developer.download.nvidia.com/compute/cuda/repos/ubuntu2204/x86_64  InRelease [1,581 B]\n",
            "Get:3 https://cloud.r-project.org/bin/linux/ubuntu jammy-cran40/ InRelease [3,632 B]\n",
            "Get:4 https://r2u.stat.illinois.edu/ubuntu jammy InRelease [6,555 B]\n",
            "Hit:5 http://archive.ubuntu.com/ubuntu jammy InRelease\n",
            "Get:6 https://developer.download.nvidia.com/compute/cuda/repos/ubuntu2204/x86_64  Packages [1,311 kB]\n",
            "Get:7 http://archive.ubuntu.com/ubuntu jammy-updates InRelease [128 kB]\n",
            "Hit:8 https://ppa.launchpadcontent.net/deadsnakes/ppa/ubuntu jammy InRelease\n",
            "Hit:9 https://ppa.launchpadcontent.net/graphics-drivers/ppa/ubuntu jammy InRelease\n",
            "Get:10 http://security.ubuntu.com/ubuntu jammy-security/main amd64 Packages [2,606 kB]\n",
            "Hit:11 https://ppa.launchpadcontent.net/ubuntugis/ppa/ubuntu jammy InRelease\n",
            "Get:12 http://security.ubuntu.com/ubuntu jammy-security/universe amd64 Packages [1,230 kB]\n",
            "Get:13 http://archive.ubuntu.com/ubuntu jammy-backports InRelease [127 kB]\n",
            "Get:14 https://r2u.stat.illinois.edu/ubuntu jammy/main all Packages [8,667 kB]\n",
            "Get:15 https://r2u.stat.illinois.edu/ubuntu jammy/main amd64 Packages [2,655 kB]\n",
            "Get:16 http://archive.ubuntu.com/ubuntu jammy-updates/universe amd64 Packages [1,526 kB]\n",
            "Get:17 http://archive.ubuntu.com/ubuntu jammy-updates/main amd64 Packages [2,911 kB]\n",
            "Fetched 21.3 MB in 3s (6,849 kB/s)\n",
            "Reading package lists... Done\n",
            "Building dependency tree... Done\n",
            "Reading state information... Done\n",
            "24 packages can be upgraded. Run 'apt list --upgradable' to see them.\n",
            "\u001b[1;33mW: \u001b[0mSkipping acquire of configured file 'main/source/Sources' as repository 'https://r2u.stat.illinois.edu/ubuntu jammy InRelease' does not seem to provide it (sources.list entry misspelt?)\u001b[0m\n",
            "Reading package lists... Done\n",
            "Building dependency tree... Done\n",
            "Reading state information... Done\n",
            "The following additional packages will be installed:\n",
            "  apparmor chromium-browser libfuse3-3 liblzo2-2 snapd squashfs-tools systemd-hwe-hwdb udev\n",
            "Suggested packages:\n",
            "  apparmor-profiles-extra apparmor-utils fuse3 zenity | kdialog\n",
            "The following NEW packages will be installed:\n",
            "  apparmor chromium-browser chromium-chromedriver libfuse3-3 liblzo2-2 snapd squashfs-tools\n",
            "  systemd-hwe-hwdb udev\n",
            "0 upgraded, 9 newly installed, 0 to remove and 24 not upgraded.\n",
            "Need to get 30.1 MB of archives.\n",
            "After this operation, 123 MB of additional disk space will be used.\n",
            "Get:1 http://archive.ubuntu.com/ubuntu jammy-updates/main amd64 apparmor amd64 3.0.4-2ubuntu2.4 [598 kB]\n",
            "Get:2 http://archive.ubuntu.com/ubuntu jammy/main amd64 liblzo2-2 amd64 2.10-2build3 [53.7 kB]\n",
            "Get:3 http://archive.ubuntu.com/ubuntu jammy/main amd64 squashfs-tools amd64 1:4.5-3build1 [159 kB]\n",
            "Get:4 http://archive.ubuntu.com/ubuntu jammy-updates/main amd64 udev amd64 249.11-0ubuntu3.12 [1,557 kB]\n",
            "Get:5 http://archive.ubuntu.com/ubuntu jammy/main amd64 libfuse3-3 amd64 3.10.5-1build1 [81.2 kB]\n",
            "Get:6 http://archive.ubuntu.com/ubuntu jammy-updates/main amd64 snapd amd64 2.66.1+22.04 [27.6 MB]\n",
            "Get:7 http://archive.ubuntu.com/ubuntu jammy-updates/universe amd64 chromium-browser amd64 1:85.0.4183.83-0ubuntu2.22.04.1 [49.2 kB]\n",
            "Get:8 http://archive.ubuntu.com/ubuntu jammy-updates/universe amd64 chromium-chromedriver amd64 1:85.0.4183.83-0ubuntu2.22.04.1 [2,308 B]\n",
            "Get:9 http://archive.ubuntu.com/ubuntu jammy-updates/main amd64 systemd-hwe-hwdb all 249.11.5 [3,228 B]\n",
            "Fetched 30.1 MB in 2s (20.0 MB/s)\n",
            "Preconfiguring packages ...\n",
            "Selecting previously unselected package apparmor.\n",
            "(Reading database ... 124926 files and directories currently installed.)\n",
            "Preparing to unpack .../0-apparmor_3.0.4-2ubuntu2.4_amd64.deb ...\n",
            "Unpacking apparmor (3.0.4-2ubuntu2.4) ...\n",
            "Selecting previously unselected package liblzo2-2:amd64.\n",
            "Preparing to unpack .../1-liblzo2-2_2.10-2build3_amd64.deb ...\n",
            "Unpacking liblzo2-2:amd64 (2.10-2build3) ...\n",
            "Selecting previously unselected package squashfs-tools.\n",
            "Preparing to unpack .../2-squashfs-tools_1%3a4.5-3build1_amd64.deb ...\n",
            "Unpacking squashfs-tools (1:4.5-3build1) ...\n",
            "Selecting previously unselected package udev.\n",
            "Preparing to unpack .../3-udev_249.11-0ubuntu3.12_amd64.deb ...\n",
            "Unpacking udev (249.11-0ubuntu3.12) ...\n",
            "Selecting previously unselected package libfuse3-3:amd64.\n",
            "Preparing to unpack .../4-libfuse3-3_3.10.5-1build1_amd64.deb ...\n",
            "Unpacking libfuse3-3:amd64 (3.10.5-1build1) ...\n",
            "Selecting previously unselected package snapd.\n",
            "Preparing to unpack .../5-snapd_2.66.1+22.04_amd64.deb ...\n",
            "Unpacking snapd (2.66.1+22.04) ...\n",
            "Setting up apparmor (3.0.4-2ubuntu2.4) ...\n",
            "Created symlink /etc/systemd/system/sysinit.target.wants/apparmor.service → /lib/systemd/system/apparmor.service.\n",
            "Setting up liblzo2-2:amd64 (2.10-2build3) ...\n",
            "Setting up squashfs-tools (1:4.5-3build1) ...\n",
            "Setting up udev (249.11-0ubuntu3.12) ...\n",
            "invoke-rc.d: could not determine current runlevel\n",
            "invoke-rc.d: policy-rc.d denied execution of start.\n",
            "Setting up libfuse3-3:amd64 (3.10.5-1build1) ...\n",
            "Setting up snapd (2.66.1+22.04) ...\n",
            "Created symlink /etc/systemd/system/multi-user.target.wants/snapd.apparmor.service → /lib/systemd/system/snapd.apparmor.service.\n",
            "Created symlink /etc/systemd/system/multi-user.target.wants/snapd.autoimport.service → /lib/systemd/system/snapd.autoimport.service.\n",
            "Created symlink /etc/systemd/system/multi-user.target.wants/snapd.core-fixup.service → /lib/systemd/system/snapd.core-fixup.service.\n",
            "Created symlink /etc/systemd/system/multi-user.target.wants/snapd.recovery-chooser-trigger.service → /lib/systemd/system/snapd.recovery-chooser-trigger.service.\n",
            "Created symlink /etc/systemd/system/multi-user.target.wants/snapd.seeded.service → /lib/systemd/system/snapd.seeded.service.\n",
            "Created symlink /etc/systemd/system/cloud-final.service.wants/snapd.seeded.service → /lib/systemd/system/snapd.seeded.service.\n",
            "Unit /lib/systemd/system/snapd.seeded.service is added as a dependency to a non-existent unit cloud-final.service.\n",
            "Created symlink /etc/systemd/system/multi-user.target.wants/snapd.service → /lib/systemd/system/snapd.service.\n",
            "Created symlink /etc/systemd/system/timers.target.wants/snapd.snap-repair.timer → /lib/systemd/system/snapd.snap-repair.timer.\n",
            "Created symlink /etc/systemd/system/sockets.target.wants/snapd.socket → /lib/systemd/system/snapd.socket.\n",
            "Created symlink /etc/systemd/system/final.target.wants/snapd.system-shutdown.service → /lib/systemd/system/snapd.system-shutdown.service.\n",
            "Selecting previously unselected package chromium-browser.\n",
            "(Reading database ... 125363 files and directories currently installed.)\n",
            "Preparing to unpack .../chromium-browser_1%3a85.0.4183.83-0ubuntu2.22.04.1_amd64.deb ...\n",
            "=> Installing the chromium snap\n",
            "==> Checking connectivity with the snap store\n",
            "===> System doesn't have a working snapd, skipping\n",
            "Unpacking chromium-browser (1:85.0.4183.83-0ubuntu2.22.04.1) ...\n",
            "Selecting previously unselected package chromium-chromedriver.\n",
            "Preparing to unpack .../chromium-chromedriver_1%3a85.0.4183.83-0ubuntu2.22.04.1_amd64.deb ...\n",
            "Unpacking chromium-chromedriver (1:85.0.4183.83-0ubuntu2.22.04.1) ...\n",
            "Selecting previously unselected package systemd-hwe-hwdb.\n",
            "Preparing to unpack .../systemd-hwe-hwdb_249.11.5_all.deb ...\n",
            "Unpacking systemd-hwe-hwdb (249.11.5) ...\n",
            "Setting up systemd-hwe-hwdb (249.11.5) ...\n",
            "Setting up chromium-browser (1:85.0.4183.83-0ubuntu2.22.04.1) ...\n",
            "update-alternatives: using /usr/bin/chromium-browser to provide /usr/bin/x-www-browser (x-www-browser) in auto mode\n",
            "update-alternatives: using /usr/bin/chromium-browser to provide /usr/bin/gnome-www-browser (gnome-www-browser) in auto mode\n",
            "Setting up chromium-chromedriver (1:85.0.4183.83-0ubuntu2.22.04.1) ...\n",
            "Processing triggers for udev (249.11-0ubuntu3.12) ...\n",
            "Processing triggers for mailcap (3.70+nmu1ubuntu1) ...\n",
            "Processing triggers for hicolor-icon-theme (0.17-2) ...\n",
            "Processing triggers for libc-bin (2.35-0ubuntu3.8) ...\n",
            "/sbin/ldconfig.real: /usr/local/lib/libtbbbind_2_0.so.3 is not a symbolic link\n",
            "\n",
            "/sbin/ldconfig.real: /usr/local/lib/libtbbbind_2_5.so.3 is not a symbolic link\n",
            "\n",
            "/sbin/ldconfig.real: /usr/local/lib/libtbbmalloc_proxy.so.2 is not a symbolic link\n",
            "\n",
            "/sbin/ldconfig.real: /usr/local/lib/libhwloc.so.15 is not a symbolic link\n",
            "\n",
            "/sbin/ldconfig.real: /usr/local/lib/libtbbbind.so.3 is not a symbolic link\n",
            "\n",
            "/sbin/ldconfig.real: /usr/local/lib/libtbbmalloc.so.2 is not a symbolic link\n",
            "\n",
            "/sbin/ldconfig.real: /usr/local/lib/libur_loader.so.0 is not a symbolic link\n",
            "\n",
            "/sbin/ldconfig.real: /usr/local/lib/libumf.so.0 is not a symbolic link\n",
            "\n",
            "/sbin/ldconfig.real: /usr/local/lib/libur_adapter_opencl.so.0 is not a symbolic link\n",
            "\n",
            "/sbin/ldconfig.real: /usr/local/lib/libtcm.so.1 is not a symbolic link\n",
            "\n",
            "/sbin/ldconfig.real: /usr/local/lib/libtbb.so.12 is not a symbolic link\n",
            "\n",
            "/sbin/ldconfig.real: /usr/local/lib/libtcm_debug.so.1 is not a symbolic link\n",
            "\n",
            "/sbin/ldconfig.real: /usr/local/lib/libur_adapter_level_zero.so.0 is not a symbolic link\n",
            "\n",
            "Processing triggers for man-db (2.10.2-1) ...\n",
            "Processing triggers for dbus (1.12.20-2ubuntu4.1) ...\n"
          ]
        }
      ]
    },
    {
      "cell_type": "code",
      "source": [
        "from selenium import webdriver\n",
        "from selenium.webdriver.support.ui import WebDriverWait\n",
        "from selenium.webdriver.support import expected_conditions as EC\n",
        "from selenium.webdriver.common.by import By"
      ],
      "metadata": {
        "id": "6qEPg5GlzArF"
      },
      "execution_count": 4,
      "outputs": []
    },
    {
      "cell_type": "code",
      "source": [
        "options = webdriver.ChromeOptions()\n",
        "options.add_argument('--headless')\n",
        "options.add_argument('--no-sandbox')\n",
        "options.add_argument('--disable-dev-shm-usage')\n",
        "options.add_argument(\"user-agent=Mozilla/5.0 (Windows NT 10.0; Win64; x64) Gecko/20100101 Firefox/124.0\")"
      ],
      "metadata": {
        "id": "1CgY-2_NzEw0"
      },
      "execution_count": 5,
      "outputs": []
    },
    {
      "cell_type": "code",
      "source": [
        "dr = webdriver.Chrome(options=options)"
      ],
      "metadata": {
        "id": "meoQPFV7zGlf"
      },
      "execution_count": 6,
      "outputs": []
    },
    {
      "cell_type": "markdown",
      "source": [
        "**Fast and Furious (2001)**"
      ],
      "metadata": {
        "id": "Tr5HFelt3Ro9"
      }
    },
    {
      "cell_type": "code",
      "source": [
        "url = \"https://www.imdb.com/title/tt0232500/reviews/?ref_=tt_ururv_sm\"\n",
        "dr.get(url)\n",
        "WebDriverWait(dr, 10).until(EC.presence_of_element_located((By.CLASS_NAME, \"sc-7d2e5b85-1\")))"
      ],
      "metadata": {
        "id": "ZqbXJ8pnzLJI",
        "outputId": "9bdeb9f1-607a-499f-c902-208feca70973",
        "colab": {
          "base_uri": "https://localhost:8080/"
        }
      },
      "execution_count": 7,
      "outputs": [
        {
          "output_type": "execute_result",
          "data": {
            "text/plain": [
              "<selenium.webdriver.remote.webelement.WebElement (session=\"d2d2b6f0495d651551c602a547cb98ea\", element=\"f.6A1B9B928F88E6E75FED49C755D889EE.d.05C70B9B42A34BB486D7CA488391B7A2.e.46\")>"
            ]
          },
          "metadata": {},
          "execution_count": 7
        }
      ]
    },
    {
      "cell_type": "code",
      "source": [
        "rating = []\n",
        "title = []\n",
        "text = []\n",
        "author_name = []\n",
        "date = []"
      ],
      "metadata": {
        "id": "FjYjHj3v0rcq"
      },
      "execution_count": 8,
      "outputs": []
    },
    {
      "cell_type": "code",
      "source": [
        "page = 1\n",
        "max_pages = 55\n",
        "\n",
        "while page < max_pages:\n",
        "    try:\n",
        "        print(f\"Attempting to click 'Load More' button on page {page}...\")\n",
        "\n",
        "        # Wait for the 'Load More' button to be present\n",
        "        load_more_button = WebDriverWait(dr, 10).until(\n",
        "            EC.presence_of_element_located((By.XPATH, \"//button[contains(@class, 'ipc-see-more__button') and .//span[text()='25 more']]\"))\n",
        "        )\n",
        "\n",
        "        # Scroll the button into view\n",
        "        dr.execute_script(\"arguments[0].scrollIntoView({block: 'center'});\", load_more_button)\n",
        "\n",
        "        # Ensure it's clickable\n",
        "        WebDriverWait(dr, 10).until(EC.element_to_be_clickable(load_more_button))\n",
        "\n",
        "        # Click using JavaScript\n",
        "        dr.execute_script(\"arguments[0].click();\", load_more_button)\n",
        "\n",
        "        time.sleep(3)\n",
        "\n",
        "        page += 1\n",
        "\n",
        "    except Exception as e:\n",
        "        print(f\"Error with loading more pages: {e}\")\n",
        "        break\n",
        "\n",
        "print(\"Finished loading all pages.\")"
      ],
      "metadata": {
        "colab": {
          "base_uri": "https://localhost:8080/"
        },
        "id": "snRyuvxe0vpK",
        "outputId": "11d4d1e6-ac71-422f-fb7c-3df845918d88"
      },
      "execution_count": 9,
      "outputs": [
        {
          "output_type": "stream",
          "name": "stdout",
          "text": [
            "Attempting to click 'Load More' button on page 1...\n",
            "Attempting to click 'Load More' button on page 2...\n",
            "Attempting to click 'Load More' button on page 3...\n",
            "Attempting to click 'Load More' button on page 4...\n",
            "Attempting to click 'Load More' button on page 5...\n",
            "Attempting to click 'Load More' button on page 6...\n",
            "Attempting to click 'Load More' button on page 7...\n",
            "Attempting to click 'Load More' button on page 8...\n",
            "Attempting to click 'Load More' button on page 9...\n",
            "Attempting to click 'Load More' button on page 10...\n",
            "Attempting to click 'Load More' button on page 11...\n",
            "Attempting to click 'Load More' button on page 12...\n",
            "Attempting to click 'Load More' button on page 13...\n",
            "Attempting to click 'Load More' button on page 14...\n",
            "Attempting to click 'Load More' button on page 15...\n",
            "Attempting to click 'Load More' button on page 16...\n",
            "Attempting to click 'Load More' button on page 17...\n",
            "Attempting to click 'Load More' button on page 18...\n",
            "Attempting to click 'Load More' button on page 19...\n",
            "Attempting to click 'Load More' button on page 20...\n",
            "Attempting to click 'Load More' button on page 21...\n",
            "Attempting to click 'Load More' button on page 22...\n",
            "Attempting to click 'Load More' button on page 23...\n",
            "Attempting to click 'Load More' button on page 24...\n",
            "Attempting to click 'Load More' button on page 25...\n",
            "Attempting to click 'Load More' button on page 26...\n",
            "Attempting to click 'Load More' button on page 27...\n",
            "Attempting to click 'Load More' button on page 28...\n",
            "Attempting to click 'Load More' button on page 29...\n",
            "Attempting to click 'Load More' button on page 30...\n",
            "Attempting to click 'Load More' button on page 31...\n",
            "Attempting to click 'Load More' button on page 32...\n",
            "Attempting to click 'Load More' button on page 33...\n",
            "Attempting to click 'Load More' button on page 34...\n",
            "Attempting to click 'Load More' button on page 35...\n",
            "Attempting to click 'Load More' button on page 36...\n",
            "Attempting to click 'Load More' button on page 37...\n",
            "Attempting to click 'Load More' button on page 38...\n",
            "Attempting to click 'Load More' button on page 39...\n",
            "Attempting to click 'Load More' button on page 40...\n",
            "Attempting to click 'Load More' button on page 41...\n",
            "Attempting to click 'Load More' button on page 42...\n",
            "Attempting to click 'Load More' button on page 43...\n",
            "Attempting to click 'Load More' button on page 44...\n",
            "Attempting to click 'Load More' button on page 45...\n",
            "Attempting to click 'Load More' button on page 46...\n",
            "Attempting to click 'Load More' button on page 47...\n",
            "Attempting to click 'Load More' button on page 48...\n",
            "Attempting to click 'Load More' button on page 49...\n",
            "Attempting to click 'Load More' button on page 50...\n",
            "Error with loading more pages: Message: \n",
            "Stacktrace:\n",
            "#0 0x57655c93409a <unknown>\n",
            "#1 0x57655c3fb8b0 <unknown>\n",
            "#2 0x57655c44cb99 <unknown>\n",
            "#3 0x57655c44cd21 <unknown>\n",
            "#4 0x57655c49b854 <unknown>\n",
            "#5 0x57655c4729ad <unknown>\n",
            "#6 0x57655c498b8b <unknown>\n",
            "#7 0x57655c472753 <unknown>\n",
            "#8 0x57655c43e38e <unknown>\n",
            "#9 0x57655c43fb51 <unknown>\n",
            "#10 0x57655c8fd76b <unknown>\n",
            "#11 0x57655c9016f2 <unknown>\n",
            "#12 0x57655c8e98fc <unknown>\n",
            "#13 0x57655c9022e4 <unknown>\n",
            "#14 0x57655c8cd9cf <unknown>\n",
            "#15 0x57655c922cd8 <unknown>\n",
            "#16 0x57655c922eb6 <unknown>\n",
            "#17 0x57655c932f16 <unknown>\n",
            "#18 0x7d5756cd2ac3 <unknown>\n",
            "\n",
            "Finished loading all pages.\n"
          ]
        }
      ]
    },
    {
      "cell_type": "code",
      "source": [
        "reviews = dr.find_elements(By.CLASS_NAME, \"sc-7d2e5b85-1\")\n",
        "\n",
        "\n",
        "for n in range(0, len(reviews)):\n",
        "    try:\n",
        "        # Extract rating\n",
        "        try:\n",
        "            frating = reviews[n].find_element(By.CLASS_NAME, 'ipc-rating-star--rating').text\n",
        "        except:\n",
        "            frating = \"No rating\"\n",
        "\n",
        "        # Extract review title\n",
        "        try:\n",
        "            ftitle = reviews[n].find_element(By.CLASS_NAME, 'ipc-title__text').text\n",
        "        except:\n",
        "            ftitle = \"No title\"\n",
        "\n",
        "        # Extract review text\n",
        "        try:\n",
        "            ftext = reviews[n].find_element(By.CLASS_NAME, 'ipc-html-content-inner-div').get_attribute(\"textContent\").strip()\n",
        "        except:\n",
        "            ftext = \"No content\"\n",
        "\n",
        "        # Extract author name\n",
        "        try:\n",
        "            fname = reviews[n].find_element(By.CLASS_NAME, 'ipc-link--base').text\n",
        "        except:\n",
        "            fname = \"No author name\"\n",
        "\n",
        "        # Extract date\n",
        "        try:\n",
        "            fdate = reviews[n].find_element(By.CLASS_NAME, 'review-date').text\n",
        "        except:\n",
        "            fdate = \"No date\"\n",
        "\n",
        "        rating.append(frating)\n",
        "        title.append(ftitle)\n",
        "        text.append(ftext)\n",
        "        author_name.append(fname)\n",
        "        date.append(fdate)\n",
        "\n",
        "    except Exception as e:\n",
        "        print(f\"Error with review {n}: {e}\")\n",
        "        continue\n",
        "\n",
        "print(f\"Total Reviews Scraped: {len(title)}\")\n",
        "print(f\"First Review Rating: {rating[0]}\")\n",
        "print(f\"First Review Title: {title[0]}\")\n",
        "print(f\"First Review Content: {text[0]}\")\n",
        "print(f\"First Review User: {author_name[0]}\")\n",
        "print(f\"First Review Date: {date[0]}\")\n",
        "\n",
        "dr.quit()"
      ],
      "metadata": {
        "colab": {
          "base_uri": "https://localhost:8080/"
        },
        "id": "GCA2SGv10v5l",
        "outputId": "4163da1c-d41b-4cd1-9d10-a73ed1cb025b"
      },
      "execution_count": 10,
      "outputs": [
        {
          "output_type": "stream",
          "name": "stdout",
          "text": [
            "Total Reviews Scraped: 1242\n",
            "First Review Rating: 7\n",
            "First Review Title: Nostalgia train\n",
            "First Review Content: Is it cheesy ? Definitely. Is it corny ? Oh ya. Did anyone deserve an Oscar? What do you think.Is it a cultural icon that has had a decades long lasting impact on pop culture worth your time ? ABSOLUTELY.Back in 2001 this movie was the next big thing. Everyone wanted a graphic'd out rice burner to drive around town in pretending they street raced.Everyone wanted a Mia or Letty. Everyone wanted to have Dom's muscles and Brian's hair.There's not enough to say about how this movie changed everyone in 2001. Just watch it yourself and put yourself in the mindset of 2001.\n",
            "First Review User: bhester0806\n",
            "First Review Date: Feb 28, 2021\n"
          ]
        }
      ]
    },
    {
      "cell_type": "code",
      "source": [
        "import csv\n",
        "\n",
        "header = ['Rating', 'Title', 'Content', 'Author Name', 'Date']\n",
        "\n",
        "rows = zip(rating, title, text, author_name, date)\n",
        "\n",
        "filename = 'FF1reviews_data.csv'\n",
        "\n",
        "with open(filename, mode='w', newline='', encoding='utf-8') as file:\n",
        "    writer = csv.writer(file)\n",
        "    writer.writerow(header)\n",
        "    writer.writerows(rows)\n",
        "\n",
        "print(f\"Data successfully saved to {filename}\")"
      ],
      "metadata": {
        "colab": {
          "base_uri": "https://localhost:8080/"
        },
        "id": "5jVUjCoj2yYt",
        "outputId": "007feaae-062d-43ad-f5f0-64325f7477a7"
      },
      "execution_count": null,
      "outputs": [
        {
          "output_type": "stream",
          "name": "stdout",
          "text": [
            "Data successfully saved to reviews_data.csv\n"
          ]
        }
      ]
    },
    {
      "cell_type": "markdown",
      "source": [
        "**2 Fast 2 Furious**"
      ],
      "metadata": {
        "id": "163o-eBj3f10"
      }
    },
    {
      "cell_type": "code",
      "source": [
        "url = \"https://www.imdb.com/title/tt0322259/reviews/?ref_=tt_ururv_sm\"\n",
        "dr.get(url)\n",
        "WebDriverWait(dr, 10).until(EC.presence_of_element_located((By.CLASS_NAME, \"sc-7d2e5b85-1\")))"
      ],
      "metadata": {
        "colab": {
          "base_uri": "https://localhost:8080/"
        },
        "id": "PNq3kKYo3Xv2",
        "outputId": "ac07e83a-36e6-4082-89be-843486035f49"
      },
      "execution_count": null,
      "outputs": [
        {
          "output_type": "execute_result",
          "data": {
            "text/plain": [
              "<selenium.webdriver.remote.webelement.WebElement (session=\"2ef49a3ae1bd26f32a5c777c36b95923\", element=\"f.D01E9F15E70E9515270FFBE26FDFB7FF.d.93EE7A5F75888340A7AE561D29210BF8.e.46\")>"
            ]
          },
          "metadata": {},
          "execution_count": 23
        }
      ]
    },
    {
      "cell_type": "code",
      "source": [
        "rating = []\n",
        "title = []\n",
        "text = []\n",
        "author_name = []\n",
        "date = []\n",
        "\n",
        "page = 1\n",
        "max_pages = 50\n",
        "\n",
        "while page < max_pages:\n",
        "    try:\n",
        "        print(f\"Attempting to click 'Load More' button on page {page}...\")\n",
        "\n",
        "        # Wait for the 'Load More' button to be present\n",
        "        load_more_button = WebDriverWait(dr, 10).until(\n",
        "            EC.presence_of_element_located((By.XPATH, \"//button[contains(@class, 'ipc-see-more__button') and .//span[text()='25 more']]\"))\n",
        "        )\n",
        "\n",
        "        # Scroll the button into view\n",
        "        dr.execute_script(\"arguments[0].scrollIntoView({block: 'center'});\", load_more_button)\n",
        "\n",
        "        # Ensure it's clickable\n",
        "        WebDriverWait(dr, 10).until(EC.element_to_be_clickable(load_more_button))\n",
        "\n",
        "        # Click using JavaScript\n",
        "        dr.execute_script(\"arguments[0].click();\", load_more_button)\n",
        "\n",
        "        time.sleep(3)\n",
        "\n",
        "        page += 1\n",
        "\n",
        "    except Exception as e:\n",
        "        print(f\"Error with loading more pages: {e}\")\n",
        "        break\n",
        "\n",
        "print(\"Finished loading all pages.\")"
      ],
      "metadata": {
        "colab": {
          "base_uri": "https://localhost:8080/"
        },
        "id": "G-aZQ6IL4GZP",
        "outputId": "ba1d03ea-e24f-4b2f-8c0d-42bd1edceea7"
      },
      "execution_count": null,
      "outputs": [
        {
          "output_type": "stream",
          "name": "stdout",
          "text": [
            "Attempting to click 'Load More' button on page 1...\n",
            "Attempting to click 'Load More' button on page 2...\n",
            "Attempting to click 'Load More' button on page 3...\n",
            "Attempting to click 'Load More' button on page 4...\n",
            "Attempting to click 'Load More' button on page 5...\n",
            "Attempting to click 'Load More' button on page 6...\n",
            "Attempting to click 'Load More' button on page 7...\n",
            "Attempting to click 'Load More' button on page 8...\n",
            "Attempting to click 'Load More' button on page 9...\n",
            "Attempting to click 'Load More' button on page 10...\n",
            "Attempting to click 'Load More' button on page 11...\n",
            "Attempting to click 'Load More' button on page 12...\n",
            "Attempting to click 'Load More' button on page 13...\n",
            "Attempting to click 'Load More' button on page 14...\n",
            "Attempting to click 'Load More' button on page 15...\n",
            "Attempting to click 'Load More' button on page 16...\n",
            "Attempting to click 'Load More' button on page 17...\n",
            "Attempting to click 'Load More' button on page 18...\n",
            "Attempting to click 'Load More' button on page 19...\n",
            "Attempting to click 'Load More' button on page 20...\n",
            "Error with loading more pages: Message: \n",
            "Stacktrace:\n",
            "#0 0x5b9c563f709a <unknown>\n",
            "#1 0x5b9c55ebe8b0 <unknown>\n",
            "#2 0x5b9c55f0fb99 <unknown>\n",
            "#3 0x5b9c55f0fd21 <unknown>\n",
            "#4 0x5b9c55f5e854 <unknown>\n",
            "#5 0x5b9c55f359ad <unknown>\n",
            "#6 0x5b9c55f5bb8b <unknown>\n",
            "#7 0x5b9c55f35753 <unknown>\n",
            "#8 0x5b9c55f0138e <unknown>\n",
            "#9 0x5b9c55f02b51 <unknown>\n",
            "#10 0x5b9c563c076b <unknown>\n",
            "#11 0x5b9c563c46f2 <unknown>\n",
            "#12 0x5b9c563ac8fc <unknown>\n",
            "#13 0x5b9c563c52e4 <unknown>\n",
            "#14 0x5b9c563909cf <unknown>\n",
            "#15 0x5b9c563e5cd8 <unknown>\n",
            "#16 0x5b9c563e5eb6 <unknown>\n",
            "#17 0x5b9c563f5f16 <unknown>\n",
            "#18 0x791ff945cac3 <unknown>\n",
            "\n",
            "Finished loading all pages.\n"
          ]
        }
      ]
    },
    {
      "cell_type": "code",
      "source": [
        "reviews = dr.find_elements(By.CLASS_NAME, \"sc-7d2e5b85-1\")\n",
        "\n",
        "for n in range(0, len(reviews)):\n",
        "    try:\n",
        "        # Extract rating\n",
        "        try:\n",
        "            frating = reviews[n].find_element(By.CLASS_NAME, 'ipc-rating-star--rating').text\n",
        "        except:\n",
        "            frating = \"No rating\"\n",
        "\n",
        "        # Extract review title\n",
        "        try:\n",
        "            ftitle = reviews[n].find_element(By.CLASS_NAME, 'ipc-title__text').text\n",
        "        except:\n",
        "            ftitle = \"No title\"\n",
        "\n",
        "        # Extract review text\n",
        "        try:\n",
        "            ftext = reviews[n].find_element(By.CLASS_NAME, 'ipc-html-content-inner-div').get_attribute(\"textContent\").strip()\n",
        "        except:\n",
        "            ftext = \"No content\"\n",
        "\n",
        "        # Extract author name\n",
        "        try:\n",
        "            fname = reviews[n].find_element(By.CLASS_NAME, 'ipc-link--base').text\n",
        "        except:\n",
        "            fname = \"No author name\"\n",
        "\n",
        "        # Extract date\n",
        "        try:\n",
        "            fdate = reviews[n].find_element(By.CLASS_NAME, 'review-date').text\n",
        "        except:\n",
        "            fdate = \"No date\"\n",
        "\n",
        "\n",
        "        rating.append(frating)\n",
        "        title.append(ftitle)\n",
        "        text.append(ftext)\n",
        "        author_name.append(fname)\n",
        "        date.append(fdate)\n",
        "\n",
        "    except Exception as e:\n",
        "        print(f\"Error with review {n}: {e}\")\n",
        "        continue\n",
        "\n",
        "print(f\"Total Reviews Scraped: {len(title)}\")\n",
        "print(f\"First Review Rating: {rating[0]}\")\n",
        "print(f\"First Review Title: {title[0]}\")\n",
        "print(f\"First Review Content: {text[0]}\")\n",
        "print(f\"First Review User: {author_name[0]}\")\n",
        "print(f\"First Review Date: {date[0]}\")\n",
        "\n",
        "dr.quit()"
      ],
      "metadata": {
        "colab": {
          "base_uri": "https://localhost:8080/"
        },
        "id": "l_ht2s9F4PtW",
        "outputId": "0df6617a-e061-43b5-cdea-1148dbf1d3ce"
      },
      "execution_count": null,
      "outputs": [
        {
          "output_type": "stream",
          "name": "stdout",
          "text": [
            "Total Reviews Scraped: 499\n",
            "First Review Rating: 7\n",
            "First Review Title: Despite Vin Diesel's absence, the sequel's still solid.\n",
            "First Review Content: What made the first \"The Fast and the Furious\" movie attracted fans besides the bad ass cars and competition on the streets was Vin Diesel's appearance as Dominic Toretta, a hotshot race driver who makes his money racing others in the streets; he was a rising star on the fame after doing such flicks such as \"Saving Private Ryan\", \"The Iron Giant\" and later doing \"XXX\".At the end of the first movie, Vin's character Dominic flees away to Mexico where he wouldn't be in this sequel.No matter, the series continues on.\"2 Fast 2 Furious\" has Paul Walker reprising his role as Brian O'Conner, the one time agent who betrayed the enforcement agency by letting Dominic get away, is now a fugitive and being in a race competitions every night to make money. After being captured by the police, Brian is given a choice in either going to jail or helped the people he once work for in taking down a drug cartel dealer (Cole Hauser). Brian agrees under one condition that he gets his childhood friend Roman Pierce (Tyrese Gibson, Transformers) involved since he's into cars and knows his ways around tough people. They're also given an ally, the sexy Monica Fuentes (Eva Mendes) who's not only an undercover agent but also posing as the enemy's mistress. Time will tell when all will be revealed.\"2 Fast 2 Furious\" is directed by John Singleton of Boyz in the Hood fame where he manages to bring the same energy and high expectations of the first movie. There's more cars, more chase sequences, more babes and more cameos this time around with a high octane pace.Overall, it's good.\n",
            "First Review User: departed07\n",
            "First Review Date: Aug 15, 2008\n"
          ]
        }
      ]
    },
    {
      "cell_type": "code",
      "source": [
        "import csv\n",
        "\n",
        "header = [\"Rating\", \"Title\", \"Content\", \"Author Name\", \"Date\"]\n",
        "\n",
        "rows = zip(rating, title, text, author_name, date)\n",
        "\n",
        "filename = \"FF2reviews_data.csv\"\n",
        "\n",
        "with open(filename, mode=\"w\", newline=\"\", encoding=\"utf-8\") as file:\n",
        "    writer = csv.writer(file)\n",
        "    writer.writerow(header)\n",
        "    writer.writerows(rows)\n",
        "\n",
        "print(f\"Data successfully saved to {filename}\")"
      ],
      "metadata": {
        "colab": {
          "base_uri": "https://localhost:8080/"
        },
        "id": "dqg0R6Kx5Gxk",
        "outputId": "67026359-0068-4923-bffb-2f7a91693e7c"
      },
      "execution_count": null,
      "outputs": [
        {
          "output_type": "stream",
          "name": "stdout",
          "text": [
            "Data successfully saved to FF2reviews_data.csv\n"
          ]
        }
      ]
    },
    {
      "cell_type": "markdown",
      "source": [
        "**The Fast and Furious: Tokyo Drift(2009)**"
      ],
      "metadata": {
        "id": "oMGg1T_y3gdZ"
      }
    },
    {
      "cell_type": "code",
      "source": [
        "url = \"https://www.imdb.com/title/tt0463985/reviews/?ref_=tt_ururv_sm\"\n",
        "dr.get(url)\n",
        "WebDriverWait(dr, 10).until(EC.presence_of_element_located((By.CLASS_NAME, \"sc-7d2e5b85-1\")))"
      ],
      "metadata": {
        "colab": {
          "base_uri": "https://localhost:8080/"
        },
        "id": "K2kPNkWz3gqb",
        "outputId": "51333cc1-edb8-4199-953a-4f195e420fec"
      },
      "execution_count": null,
      "outputs": [
        {
          "output_type": "execute_result",
          "data": {
            "text/plain": [
              "<selenium.webdriver.remote.webelement.WebElement (session=\"986bb4df124af965c90c7a77a116dbc9\", element=\"f.23E2AF7B80DB22D835591052EDEDE3C9.d.6D604382A85733071BF2D4A18E133FF6.e.33\")>"
            ]
          },
          "metadata": {},
          "execution_count": 6
        }
      ]
    },
    {
      "cell_type": "code",
      "source": [
        "rating = []\n",
        "title = []\n",
        "text = []\n",
        "author_name = []\n",
        "date = []\n",
        "\n",
        "page = 1\n",
        "max_pages = 50\n",
        "\n",
        "while page < max_pages:\n",
        "    try:\n",
        "        print(f\"Attempting to click 'Load More' button on page {page}...\")\n",
        "\n",
        "        # Wait for the 'Load More' button to be present\n",
        "        load_more_button = WebDriverWait(dr, 10).until(\n",
        "            EC.presence_of_element_located((By.XPATH, \"//button[contains(@class, 'ipc-see-more__button') and .//span[text()='25 more']]\"))\n",
        "        )\n",
        "\n",
        "        # Scroll the button into view\n",
        "        dr.execute_script(\"arguments[0].scrollIntoView({block: 'center'});\", load_more_button)\n",
        "\n",
        "\n",
        "        # Ensure it's clickable\n",
        "        WebDriverWait(dr, 10).until(EC.element_to_be_clickable(load_more_button))\n",
        "\n",
        "        # Click using JavaScript\n",
        "        dr.execute_script(\"arguments[0].click();\", load_more_button)\n",
        "\n",
        "        time.sleep(3)\n",
        "\n",
        "        page += 1\n",
        "\n",
        "    except Exception as e:\n",
        "        print(f\"Error with loading more pages: {e}\")\n",
        "        break\n",
        "\n",
        "print(\"Finished loading all pages.\")"
      ],
      "metadata": {
        "colab": {
          "base_uri": "https://localhost:8080/"
        },
        "id": "fG7ZyVfF5O54",
        "outputId": "dbc018df-eb8a-4dc5-a79b-699430dc4451"
      },
      "execution_count": null,
      "outputs": [
        {
          "output_type": "stream",
          "name": "stdout",
          "text": [
            "Attempting to click 'Load More' button on page 1...\n",
            "Attempting to click 'Load More' button on page 2...\n",
            "Attempting to click 'Load More' button on page 3...\n",
            "Attempting to click 'Load More' button on page 4...\n",
            "Attempting to click 'Load More' button on page 5...\n",
            "Attempting to click 'Load More' button on page 6...\n",
            "Attempting to click 'Load More' button on page 7...\n",
            "Attempting to click 'Load More' button on page 8...\n",
            "Attempting to click 'Load More' button on page 9...\n",
            "Attempting to click 'Load More' button on page 10...\n",
            "Attempting to click 'Load More' button on page 11...\n",
            "Attempting to click 'Load More' button on page 12...\n",
            "Attempting to click 'Load More' button on page 13...\n",
            "Attempting to click 'Load More' button on page 14...\n",
            "Attempting to click 'Load More' button on page 15...\n",
            "Attempting to click 'Load More' button on page 16...\n",
            "Attempting to click 'Load More' button on page 17...\n",
            "Attempting to click 'Load More' button on page 18...\n",
            "Attempting to click 'Load More' button on page 19...\n",
            "Attempting to click 'Load More' button on page 20...\n",
            "Attempting to click 'Load More' button on page 21...\n",
            "Attempting to click 'Load More' button on page 22...\n",
            "Error with loading more pages: Message: \n",
            "Stacktrace:\n",
            "#0 0x5ac70977409a <unknown>\n",
            "#1 0x5ac70923b8b0 <unknown>\n",
            "#2 0x5ac70928cb99 <unknown>\n",
            "#3 0x5ac70928cd21 <unknown>\n",
            "#4 0x5ac7092db854 <unknown>\n",
            "#5 0x5ac7092b29ad <unknown>\n",
            "#6 0x5ac7092d8b8b <unknown>\n",
            "#7 0x5ac7092b2753 <unknown>\n",
            "#8 0x5ac70927e38e <unknown>\n",
            "#9 0x5ac70927fb51 <unknown>\n",
            "#10 0x5ac70973d76b <unknown>\n",
            "#11 0x5ac7097416f2 <unknown>\n",
            "#12 0x5ac7097298fc <unknown>\n",
            "#13 0x5ac7097422e4 <unknown>\n",
            "#14 0x5ac70970d9cf <unknown>\n",
            "#15 0x5ac709762cd8 <unknown>\n",
            "#16 0x5ac709762eb6 <unknown>\n",
            "#17 0x5ac709772f16 <unknown>\n",
            "#18 0x7fd403aa7ac3 <unknown>\n",
            "\n",
            "Finished loading all pages.\n"
          ]
        }
      ]
    },
    {
      "cell_type": "code",
      "source": [
        "reviews = dr.find_elements(By.CLASS_NAME, \"sc-7d2e5b85-1\")\n",
        "\n",
        "for n in range(0, len(reviews)):\n",
        "    try:\n",
        "        # Extract rating\n",
        "        try:\n",
        "            frating = reviews[n].find_element(By.CLASS_NAME, 'ipc-rating-star--rating').text\n",
        "        except:\n",
        "            frating = \"No rating\"\n",
        "\n",
        "        # Extract review title\n",
        "        try:\n",
        "            ftitle = reviews[n].find_element(By.CLASS_NAME, 'ipc-title__text').text\n",
        "        except:\n",
        "            ftitle = \"No title\"\n",
        "\n",
        "        # Extract review text\n",
        "        try:\n",
        "            ftext = reviews[n].find_element(By.CLASS_NAME, 'ipc-html-content-inner-div').get_attribute(\"textContent\").strip()\n",
        "        except:\n",
        "            ftext = \"No content\"\n",
        "\n",
        "        # Extract author name\n",
        "        try:\n",
        "            fname = reviews[n].find_element(By.CLASS_NAME, 'ipc-link--base').text\n",
        "        except:\n",
        "            fname = \"No author name\"\n",
        "\n",
        "        # Extract date\n",
        "        try:\n",
        "            fdate = reviews[n].find_element(By.CLASS_NAME, 'review-date').text\n",
        "        except:\n",
        "            fdate = \"No date\"\n",
        "\n",
        "        rating.append(frating)\n",
        "        title.append(ftitle)\n",
        "        text.append(ftext)\n",
        "        author_name.append(fname)\n",
        "        date.append(fdate)\n",
        "\n",
        "    except Exception as e:\n",
        "        print(f\"Error with review {n}: {e}\")\n",
        "        continue\n",
        "\n",
        "print(f\"Total Reviews Scraped: {len(title)}\")\n",
        "print(f\"First Review Rating: {rating[0]}\")\n",
        "print(f\"First Review Title: {title[0]}\")\n",
        "print(f\"First Review Content: {text[0]}\")\n",
        "print(f\"First Review User: {author_name[0]}\")\n",
        "print(f\"First Review Date: {date[0]}\")\n",
        "\n",
        "dr.quit()"
      ],
      "metadata": {
        "colab": {
          "base_uri": "https://localhost:8080/"
        },
        "id": "_5U3tfwN5PLH",
        "outputId": "d6e1de15-5395-4b3a-b467-9142a540b186"
      },
      "execution_count": null,
      "outputs": [
        {
          "output_type": "stream",
          "name": "stdout",
          "text": [
            "Total Reviews Scraped: 548\n",
            "First Review Rating: 7\n",
            "First Review Title: The last one about actual racing?\n",
            "First Review Content: Look behind the woeful accent and this is actually a good movie. The first F&F was about racing, then went all Miami Vice. A final return to the street racing scene had to move away from the original cast as they had lost their 'From the streets' appeal.Anyway back to this, some sweet cars that aren't the massively expensive hyper cars of later episodes and some trick driving to boot.A quality film if you manage to watch it a couple of times and don't dwell on the accent.\n",
            "First Review User: sarnieken\n",
            "First Review Date: Mar 28, 2021\n"
          ]
        }
      ]
    },
    {
      "cell_type": "code",
      "source": [
        "import csv\n",
        "\n",
        "header = [\"Rating\", \"Title\", \"Content\", \"Author Name\", \"Date\"]\n",
        "\n",
        "rows = zip(rating, title, text, author_name, date)\n",
        "\n",
        "filename = \"FF3reviews_data.csv\"\n",
        "\n",
        "with open(filename, mode=\"w\", newline=\"\", encoding=\"utf-8\") as file:\n",
        "    writer = csv.writer(file)\n",
        "    writer.writerow(header)\n",
        "    writer.writerows(rows)\n",
        "\n",
        "print(f\"Data successfully saved to {filename}\")"
      ],
      "metadata": {
        "colab": {
          "base_uri": "https://localhost:8080/"
        },
        "id": "EqaFLtRY6IB5",
        "outputId": "2a62bd5d-83b3-4b8c-9f7d-e744bab2252f"
      },
      "execution_count": null,
      "outputs": [
        {
          "output_type": "stream",
          "name": "stdout",
          "text": [
            "Data successfully saved to FF3reviews_data.csv\n"
          ]
        }
      ]
    },
    {
      "cell_type": "code",
      "source": [
        "/content/DS-4002-Group-Projects/DATA"
      ],
      "metadata": {
        "id": "joJjjJcZ6Njg"
      },
      "execution_count": null,
      "outputs": []
    },
    {
      "cell_type": "markdown",
      "source": [
        "**Fast and Furious(2009)"
      ],
      "metadata": {
        "id": "5JM__fHN3hZC"
      }
    },
    {
      "cell_type": "code",
      "source": [
        "url = \"https://www.imdb.com/title/tt1013752/reviews/?ref_=tt_ururv_sm\"\n",
        "dr.get(url)\n",
        "WebDriverWait(dr, 10).until(EC.presence_of_element_located((By.CLASS_NAME, \"sc-7d2e5b85-1\")))"
      ],
      "metadata": {
        "colab": {
          "base_uri": "https://localhost:8080/"
        },
        "id": "GlhBEXC53hop",
        "outputId": "24260108-050b-4733-a7ab-5a7d3df4037d"
      },
      "execution_count": null,
      "outputs": [
        {
          "output_type": "execute_result",
          "data": {
            "text/plain": [
              "<selenium.webdriver.remote.webelement.WebElement (session=\"325b634edae39f90c79daeaf177367c8\", element=\"f.B8F5A70CA968D82A2BB926FBF96B540B.d.DD093DC15186E8722E8AE2C77E5F0E5E.e.34\")>"
            ]
          },
          "metadata": {},
          "execution_count": 24
        }
      ]
    },
    {
      "cell_type": "code",
      "source": [
        "rating = []\n",
        "title = []\n",
        "text = []\n",
        "author_name = []\n",
        "date = []\n",
        "\n",
        "page = 1\n",
        "max_pages = 50\n",
        "\n",
        "while page < max_pages:\n",
        "    try:\n",
        "        print(f\"Attempting to click 'Load More' button on page {page}...\")\n",
        "\n",
        "        # Wait for the 'Load More' button to be present\n",
        "        load_more_button = WebDriverWait(dr, 10).until(\n",
        "            EC.presence_of_element_located((By.XPATH, \"//button[contains(@class, 'ipc-see-more__button') and .//span[text()='25 more']]\"))\n",
        "        )\n",
        "\n",
        "        # Scroll the button into view\n",
        "        dr.execute_script(\"arguments[0].scrollIntoView({block: 'center'});\", load_more_button)\n",
        "\n",
        "        # Ensure it's clickable\n",
        "        WebDriverWait(dr, 10).until(EC.element_to_be_clickable(load_more_button))\n",
        "\n",
        "        # Click using JavaScript\n",
        "        dr.execute_script(\"arguments[0].click();\", load_more_button)\n",
        "\n",
        "        time.sleep(3)\n",
        "\n",
        "        page += 1\n",
        "\n",
        "    except Exception as e:\n",
        "        print(f\"Error with loading more pages: {e}\")\n",
        "        break\n",
        "\n",
        "print(\"Finished loading all pages.\")"
      ],
      "metadata": {
        "colab": {
          "base_uri": "https://localhost:8080/"
        },
        "id": "JRJI2g8P6NUd",
        "outputId": "31fa6697-e6c9-4ab2-9c91-cbabe9dc36df"
      },
      "execution_count": null,
      "outputs": [
        {
          "output_type": "stream",
          "name": "stdout",
          "text": [
            "Attempting to click 'Load More' button on page 1...\n",
            "Error with loading more pages: Message: \n",
            "Stacktrace:\n",
            "#0 0x5bc4178b109a <unknown>\n",
            "#1 0x5bc4173788b0 <unknown>\n",
            "#2 0x5bc4173c9b99 <unknown>\n",
            "#3 0x5bc4173c9d21 <unknown>\n",
            "#4 0x5bc417418854 <unknown>\n",
            "#5 0x5bc4173ef9ad <unknown>\n",
            "#6 0x5bc417415b8b <unknown>\n",
            "#7 0x5bc4173ef753 <unknown>\n",
            "#8 0x5bc4173bb38e <unknown>\n",
            "#9 0x5bc4173bcb51 <unknown>\n",
            "#10 0x5bc41787a76b <unknown>\n",
            "#11 0x5bc41787e6f2 <unknown>\n",
            "#12 0x5bc4178668fc <unknown>\n",
            "#13 0x5bc41787f2e4 <unknown>\n",
            "#14 0x5bc41784a9cf <unknown>\n",
            "#15 0x5bc41789fcd8 <unknown>\n",
            "#16 0x5bc41789feb6 <unknown>\n",
            "#17 0x5bc4178aff16 <unknown>\n",
            "#18 0x7b08ee546ac3 <unknown>\n",
            "\n",
            "Finished loading all pages.\n"
          ]
        }
      ]
    },
    {
      "cell_type": "code",
      "source": [
        "reviews = dr.find_elements(By.CLASS_NAME, \"sc-7d2e5b85-1\")  # Update with actual class name for reviews\n",
        "\n",
        "for n in range(0, len(reviews)):\n",
        "    try:\n",
        "        # Extract rating\n",
        "        try:\n",
        "            frating = reviews[n].find_element(By.CLASS_NAME, 'ipc-rating-star--rating').text\n",
        "        except:\n",
        "            frating = \"No rating\"\n",
        "\n",
        "        # Extract review title\n",
        "        try:\n",
        "            ftitle = reviews[n].find_element(By.CLASS_NAME, 'ipc-title__text').text\n",
        "        except:\n",
        "            ftitle = \"No title\"\n",
        "\n",
        "        # Extract review text\n",
        "        try:\n",
        "            ftext = reviews[n].find_element(By.CLASS_NAME, 'ipc-html-content-inner-div').get_attribute(\"textContent\").strip()\n",
        "        except:\n",
        "            ftext = \"No content\"\n",
        "\n",
        "        # Extract author name\n",
        "        try:\n",
        "            fname = reviews[n].find_element(By.CLASS_NAME, 'ipc-link--base').text\n",
        "        except:\n",
        "            fname = \"No author name\"\n",
        "\n",
        "        # Extract review date\n",
        "        try:\n",
        "            fdate = reviews[n].find_element(By.CLASS_NAME, 'review-date').text\n",
        "        except:\n",
        "            fdate = \"No date\"\n",
        "\n",
        "        # Append the extracted data to the respective lists\n",
        "        rating.append(frating)\n",
        "        title.append(ftitle)\n",
        "        text.append(ftext)\n",
        "        author_name.append(fname)\n",
        "        date.append(fdate)\n",
        "\n",
        "    except Exception as e:\n",
        "        # Print the error and continue with the next review\n",
        "        print(f\"Error with review {n}: {e}\")\n",
        "        continue\n",
        "\n",
        "print(f\"Total Reviews Scraped: {len(title)}\")\n",
        "print(f\"First Review Rating: {rating[0]}\")\n",
        "print(f\"First Review Title: {title[0]}\")\n",
        "print(f\"First Review Content: {text[0]}\")\n",
        "print(f\"First Review User: {author_name[0]}\")\n",
        "print(f\"First Review Date: {date[0]}\")\n",
        "\n",
        "# Close the WebDriver\n",
        "dr.quit()"
      ],
      "metadata": {
        "colab": {
          "base_uri": "https://localhost:8080/"
        },
        "id": "Nff6SiXd6Nyp",
        "outputId": "318f89e8-5f57-445b-cb35-677548611698"
      },
      "execution_count": null,
      "outputs": [
        {
          "output_type": "stream",
          "name": "stdout",
          "text": [
            "Total Reviews Scraped: 349\n",
            "First Review Rating: 7\n",
            "First Review Title: Still fast, still furious\n",
            "First Review Content: No content\n",
            "First Review User: C-Younkin\n",
            "First Review Date: Mar 31, 2009\n"
          ]
        }
      ]
    },
    {
      "cell_type": "code",
      "source": [
        "import csv\n",
        "\n",
        "header = [\"Rating\", \"Title\", \"Content\", \"Author Name\", \"Date\"]\n",
        "\n",
        "rows = zip(rating, title, text, author_name, date)\n",
        "\n",
        "filename = \"FF4reviews_data.csv\"\n",
        "\n",
        "with open(filename, mode=\"w\", newline=\"\", encoding=\"utf-8\") as file:\n",
        "    writer = csv.writer(file)\n",
        "    writer.writerow(header)\n",
        "    writer.writerows(rows)\n",
        "\n",
        "print(f\"Data successfully saved to {filename}\")"
      ],
      "metadata": {
        "colab": {
          "base_uri": "https://localhost:8080/"
        },
        "id": "1ZaJ3EOU6x50",
        "outputId": "7a4f844e-6470-4d38-f604-0c192da80338"
      },
      "execution_count": null,
      "outputs": [
        {
          "output_type": "stream",
          "name": "stdout",
          "text": [
            "Data successfully saved to FF4reviews_data.csv\n"
          ]
        }
      ]
    },
    {
      "cell_type": "markdown",
      "source": [
        "**Fast Five(2011)**"
      ],
      "metadata": {
        "id": "oVwYss083h0n"
      }
    },
    {
      "cell_type": "code",
      "source": [
        "url = \"https://www.imdb.com/title/tt1596343/reviews/?ref_=tt_ururv_sm\"\n",
        "dr.get(url)\n",
        "WebDriverWait(dr, 10).until(EC.presence_of_element_located((By.CLASS_NAME, \"sc-7d2e5b85-1\")))"
      ],
      "metadata": {
        "colab": {
          "base_uri": "https://localhost:8080/"
        },
        "id": "8O9_tZxv3iNX",
        "outputId": "0d649c75-e6e0-4e85-b5e6-4b5684078bb7"
      },
      "execution_count": null,
      "outputs": [
        {
          "output_type": "execute_result",
          "data": {
            "text/plain": [
              "<selenium.webdriver.remote.webelement.WebElement (session=\"313bdee08920600d190831692ca68510\", element=\"f.CA62DEB2685718A77376F69D8EF63A18.d.F46D6EDE991309F14FE9515C54A3E08D.e.35\")>"
            ]
          },
          "metadata": {},
          "execution_count": 32
        }
      ]
    },
    {
      "cell_type": "code",
      "source": [
        "rating = []\n",
        "title = []\n",
        "text = []\n",
        "author_name = []\n",
        "date = []\n",
        "\n",
        "page = 1\n",
        "max_pages = 50\n",
        "\n",
        "while page < max_pages:\n",
        "    try:\n",
        "        print(f\"Attempting to click 'Load More' button on page {page}...\")\n",
        "\n",
        "        # Wait for the 'Load More' button to be present\n",
        "        load_more_button = WebDriverWait(dr, 10).until(\n",
        "            EC.presence_of_element_located((By.XPATH, \"//button[contains(@class, 'ipc-see-more__button') and .//span[text()='25 more']]\"))\n",
        "        )\n",
        "\n",
        "        # Scroll the button into view\n",
        "        dr.execute_script(\"arguments[0].scrollIntoView({block: 'center'});\", load_more_button)\n",
        "\n",
        "        # Ensure it's clickable\n",
        "        WebDriverWait(dr, 10).until(EC.element_to_be_clickable(load_more_button))\n",
        "\n",
        "        # Click using JavaScript\n",
        "        dr.execute_script(\"arguments[0].click();\", load_more_button)\n",
        "\n",
        "        time.sleep(3)\n",
        "\n",
        "        page += 1\n",
        "\n",
        "    except Exception as e:\n",
        "        print(f\"Error with loading more pages: {e}\")\n",
        "        break\n",
        "\n",
        "print(\"Finished loading all pages.\")"
      ],
      "metadata": {
        "colab": {
          "base_uri": "https://localhost:8080/"
        },
        "id": "vw_rTAs35-bk",
        "outputId": "159662c0-78a7-4987-bcb6-7060e8600a3a"
      },
      "execution_count": null,
      "outputs": [
        {
          "output_type": "stream",
          "name": "stdout",
          "text": [
            "Attempting to click 'Load More' button on page 1...\n",
            "Attempting to click 'Load More' button on page 2...\n",
            "Attempting to click 'Load More' button on page 3...\n",
            "Attempting to click 'Load More' button on page 4...\n",
            "Attempting to click 'Load More' button on page 5...\n",
            "Attempting to click 'Load More' button on page 6...\n",
            "Attempting to click 'Load More' button on page 7...\n",
            "Attempting to click 'Load More' button on page 8...\n",
            "Attempting to click 'Load More' button on page 9...\n",
            "Attempting to click 'Load More' button on page 10...\n",
            "Attempting to click 'Load More' button on page 11...\n",
            "Attempting to click 'Load More' button on page 12...\n",
            "Attempting to click 'Load More' button on page 13...\n",
            "Attempting to click 'Load More' button on page 14...\n",
            "Attempting to click 'Load More' button on page 15...\n",
            "Attempting to click 'Load More' button on page 16...\n",
            "Attempting to click 'Load More' button on page 17...\n",
            "Attempting to click 'Load More' button on page 18...\n",
            "Attempting to click 'Load More' button on page 19...\n",
            "Attempting to click 'Load More' button on page 20...\n",
            "Attempting to click 'Load More' button on page 21...\n",
            "Attempting to click 'Load More' button on page 22...\n",
            "Error with loading more pages: Message: \n",
            "Stacktrace:\n",
            "#0 0x5923cc24709a <unknown>\n",
            "#1 0x5923cbd0e8b0 <unknown>\n",
            "#2 0x5923cbd5fb99 <unknown>\n",
            "#3 0x5923cbd5fd21 <unknown>\n",
            "#4 0x5923cbdae854 <unknown>\n",
            "#5 0x5923cbd859ad <unknown>\n",
            "#6 0x5923cbdabb8b <unknown>\n",
            "#7 0x5923cbd85753 <unknown>\n",
            "#8 0x5923cbd5138e <unknown>\n",
            "#9 0x5923cbd52b51 <unknown>\n",
            "#10 0x5923cc21076b <unknown>\n",
            "#11 0x5923cc2146f2 <unknown>\n",
            "#12 0x5923cc1fc8fc <unknown>\n",
            "#13 0x5923cc2152e4 <unknown>\n",
            "#14 0x5923cc1e09cf <unknown>\n",
            "#15 0x5923cc235cd8 <unknown>\n",
            "#16 0x5923cc235eb6 <unknown>\n",
            "#17 0x5923cc245f16 <unknown>\n",
            "#18 0x7f57ad1baac3 <unknown>\n",
            "\n",
            "Finished loading all pages.\n"
          ]
        }
      ]
    },
    {
      "cell_type": "code",
      "source": [
        "reviews = dr.find_elements(By.CLASS_NAME, \"sc-7d2e5b85-1\")\n",
        "\n",
        "for n in range(0, len(reviews)):\n",
        "    try:\n",
        "        # Extract rating\n",
        "        try:\n",
        "            frating = reviews[n].find_element(By.CLASS_NAME, 'ipc-rating-star--rating').text\n",
        "        except:\n",
        "            frating = \"No rating\"\n",
        "\n",
        "        # Extract review title\n",
        "        try:\n",
        "            ftitle = reviews[n].find_element(By.CLASS_NAME, 'ipc-title__text').text\n",
        "        except:\n",
        "            ftitle = \"No title\"\n",
        "\n",
        "        # Extract review text\n",
        "        try:\n",
        "            ftext = reviews[n].find_element(By.CLASS_NAME, 'ipc-html-content-inner-div').get_attribute(\"textContent\").strip()\n",
        "        except:\n",
        "            ftext = \"No content\"\n",
        "\n",
        "        # Extract author name\n",
        "        try:\n",
        "            fname = reviews[n].find_element(By.CLASS_NAME, 'ipc-link--base').text\n",
        "        except:\n",
        "            fname = \"No author name\"\n",
        "\n",
        "        # Extract review date\n",
        "        try:\n",
        "            fdate = reviews[n].find_element(By.CLASS_NAME, 'review-date').text\n",
        "        except:\n",
        "            fdate = \"No date\"\n",
        "\n",
        "        rating.append(frating)\n",
        "        title.append(ftitle)\n",
        "        text.append(ftext)\n",
        "        author_name.append(fname)\n",
        "        date.append(fdate)\n",
        "\n",
        "    except Exception as e:\n",
        "        print(f\"Error with review {n}: {e}\")\n",
        "        continue\n",
        "\n",
        "print(f\"Total Reviews Scraped: {len(title)}\")\n",
        "print(f\"First Review Rating: {rating[0]}\")\n",
        "print(f\"First Review Title: {title[0]}\")\n",
        "print(f\"First Review Content: {text[0]}\")\n",
        "print(f\"First Review User: {author_name[0]}\")\n",
        "print(f\"First Review Date: {date[0]}\")\n",
        "\n",
        "dr.quit()"
      ],
      "metadata": {
        "colab": {
          "base_uri": "https://localhost:8080/"
        },
        "id": "cegvN4Rl6oRq",
        "outputId": "550555e4-e728-4d14-aa5e-adaa7433cea0"
      },
      "execution_count": null,
      "outputs": [
        {
          "output_type": "stream",
          "name": "stdout",
          "text": [
            "Total Reviews Scraped: 549\n",
            "First Review Rating: 8\n",
            "First Review Title: So far the best and most entertaining of this series.\n",
            "First Review Content: This is the film that single-handedly got me to give the rest of the series a shot, for better or worse. It's a nice change of pace from the previous films where it abandons the street race angle (how far could you have taken that anyway?) and goes into the direction of a heist action flick with cars. Dwayne Johnson is a great addition and really adds to the series embracing the goofiness of its premise. So yeah, still the best this franchise had, and that's kind of rare for a franchise on its fifth film. The action for the most part is really handled well and a lot of fun to watch. The cast as an ensemble are very charismatic which no doubt makes it more fun for audiences to see a cast that has so much diversity and it's not done with generic stereotypes but just a bunch of people with a common interest. Overall a very entertaining action flick.\n",
            "First Review User: tmm_8705\n",
            "First Review Date: Jun 28, 2013\n"
          ]
        }
      ]
    },
    {
      "cell_type": "code",
      "source": [
        "import csv\n",
        "\n",
        "header = [\"Rating\", \"Title\", \"Content\", \"Author Name\", \"Date\"]\n",
        "\n",
        "rows = zip(rating, title, text, author_name, date)\n",
        "\n",
        "filename = \"FF5reviews_data.csv\"\n",
        "\n",
        "with open(filename, mode=\"w\", newline=\"\", encoding=\"utf-8\") as file:\n",
        "    writer = csv.writer(file)\n",
        "    writer.writerow(header)\n",
        "    writer.writerows(rows)\n",
        "\n",
        "print(f\"Data successfully saved to {filename}\")"
      ],
      "metadata": {
        "colab": {
          "base_uri": "https://localhost:8080/"
        },
        "id": "3fsTue0g6pNC",
        "outputId": "8133e9e2-0f14-44c2-cf9f-0e1c230aa4c3"
      },
      "execution_count": null,
      "outputs": [
        {
          "output_type": "stream",
          "name": "stdout",
          "text": [
            "Data successfully saved to FF5reviews_data.csv\n"
          ]
        }
      ]
    },
    {
      "cell_type": "markdown",
      "source": [
        "**Fast and Furious 6**"
      ],
      "metadata": {
        "id": "8eQofEdx3ivf"
      }
    },
    {
      "cell_type": "code",
      "source": [
        "url = \"https://www.imdb.com/title/tt1905041/reviews/?ref_=tt_ururv_sm\"\n",
        "dr.get(url)\n",
        "WebDriverWait(dr, 10).until(EC.presence_of_element_located((By.CLASS_NAME, \"sc-7d2e5b85-1\")))"
      ],
      "metadata": {
        "colab": {
          "base_uri": "https://localhost:8080/"
        },
        "id": "4S7ixaQP3jA6",
        "outputId": "c1bd4e17-75d4-4a3e-e707-0a88a1bb9718"
      },
      "execution_count": null,
      "outputs": [
        {
          "output_type": "execute_result",
          "data": {
            "text/plain": [
              "<selenium.webdriver.remote.webelement.WebElement (session=\"0b03ac1b579fcc6b3e7d8ba8066a7133\", element=\"f.7529EBAB514EEEF1313EA7864047BEF0.d.AF8EBB966585198C0CC5D9F3622CA82B.e.34\")>"
            ]
          },
          "metadata": {},
          "execution_count": 6
        }
      ]
    },
    {
      "cell_type": "code",
      "source": [
        "rating = []\n",
        "title = []\n",
        "text = []\n",
        "author_name = []\n",
        "date = []\n",
        "\n",
        "page = 1\n",
        "max_pages = 50\n",
        "\n",
        "while page < max_pages:\n",
        "    try:\n",
        "        print(f\"Attempting to click 'Load More' button on page {page}...\")\n",
        "\n",
        "        # Wait for the 'Load More' button to be present\n",
        "        load_more_button = WebDriverWait(dr, 10).until(\n",
        "            EC.presence_of_element_located((By.XPATH, \"//button[contains(@class, 'ipc-see-more__button') and .//span[text()='25 more']]\"))\n",
        "        )\n",
        "\n",
        "        # Scroll the button into view\n",
        "        dr.execute_script(\"arguments[0].scrollIntoView({block: 'center'});\", load_more_button)\n",
        "\n",
        "        # Ensure it's clickable\n",
        "        WebDriverWait(dr, 10).until(EC.element_to_be_clickable(load_more_button))\n",
        "\n",
        "        # Click using JavaScript\n",
        "        dr.execute_script(\"arguments[0].click();\", load_more_button)\n",
        "\n",
        "        time.sleep(3)\n",
        "\n",
        "        page += 1\n",
        "\n",
        "    except Exception as e:\n",
        "        print(f\"Error with loading more pages: {e}\")\n",
        "        break\n",
        "\n",
        "print(\"Finished loading all pages.\")"
      ],
      "metadata": {
        "colab": {
          "base_uri": "https://localhost:8080/"
        },
        "id": "dtZiFVLg6dtu",
        "outputId": "2b453427-4a39-4c67-b9e5-e59867790d83"
      },
      "execution_count": null,
      "outputs": [
        {
          "output_type": "stream",
          "name": "stdout",
          "text": [
            "Attempting to click 'Load More' button on page 1...\n",
            "Attempting to click 'Load More' button on page 2...\n",
            "Attempting to click 'Load More' button on page 3...\n",
            "Attempting to click 'Load More' button on page 4...\n",
            "Attempting to click 'Load More' button on page 5...\n",
            "Attempting to click 'Load More' button on page 6...\n",
            "Attempting to click 'Load More' button on page 7...\n",
            "Attempting to click 'Load More' button on page 8...\n",
            "Attempting to click 'Load More' button on page 9...\n",
            "Attempting to click 'Load More' button on page 10...\n",
            "Attempting to click 'Load More' button on page 11...\n",
            "Attempting to click 'Load More' button on page 12...\n",
            "Attempting to click 'Load More' button on page 13...\n",
            "Attempting to click 'Load More' button on page 14...\n",
            "Attempting to click 'Load More' button on page 15...\n",
            "Attempting to click 'Load More' button on page 16...\n",
            "Attempting to click 'Load More' button on page 17...\n",
            "Attempting to click 'Load More' button on page 18...\n",
            "Attempting to click 'Load More' button on page 19...\n",
            "Attempting to click 'Load More' button on page 20...\n",
            "Attempting to click 'Load More' button on page 21...\n",
            "Attempting to click 'Load More' button on page 22...\n",
            "Attempting to click 'Load More' button on page 23...\n",
            "Error with loading more pages: Message: \n",
            "Stacktrace:\n",
            "#0 0x556e3bdad09a <unknown>\n",
            "#1 0x556e3b8748b0 <unknown>\n",
            "#2 0x556e3b8c5b99 <unknown>\n",
            "#3 0x556e3b8c5d21 <unknown>\n",
            "#4 0x556e3b914854 <unknown>\n",
            "#5 0x556e3b8eb9ad <unknown>\n",
            "#6 0x556e3b911b8b <unknown>\n",
            "#7 0x556e3b8eb753 <unknown>\n",
            "#8 0x556e3b8b738e <unknown>\n",
            "#9 0x556e3b8b8b51 <unknown>\n",
            "#10 0x556e3bd7676b <unknown>\n",
            "#11 0x556e3bd7a6f2 <unknown>\n",
            "#12 0x556e3bd628fc <unknown>\n",
            "#13 0x556e3bd7b2e4 <unknown>\n",
            "#14 0x556e3bd469cf <unknown>\n",
            "#15 0x556e3bd9bcd8 <unknown>\n",
            "#16 0x556e3bd9beb6 <unknown>\n",
            "#17 0x556e3bdabf16 <unknown>\n",
            "#18 0x78edac144ac3 <unknown>\n",
            "\n",
            "Finished loading all pages.\n"
          ]
        }
      ]
    },
    {
      "cell_type": "code",
      "source": [
        "reviews = dr.find_elements(By.CLASS_NAME, \"sc-7d2e5b85-1\")\n",
        "\n",
        "for n in range(0, len(reviews)):\n",
        "    try:\n",
        "        # Extract rating\n",
        "        try:\n",
        "            frating = reviews[n].find_element(By.CLASS_NAME, 'ipc-rating-star--rating').text\n",
        "        except:\n",
        "            frating = \"No rating\"\n",
        "\n",
        "        # Extract review title\n",
        "        try:\n",
        "            ftitle = reviews[n].find_element(By.CLASS_NAME, 'ipc-title__text').text\n",
        "        except:\n",
        "            ftitle = \"No title\"\n",
        "\n",
        "        # Extract review text\n",
        "        try:\n",
        "            ftext = reviews[n].find_element(By.CLASS_NAME, 'ipc-html-content-inner-div').get_attribute(\"textContent\").strip()\n",
        "        except:\n",
        "            ftext = \"No content\"\n",
        "\n",
        "        # Extract author name\n",
        "        try:\n",
        "            fname = reviews[n].find_element(By.CLASS_NAME, 'ipc-link--base').text\n",
        "        except:\n",
        "            fname = \"No author name\"\n",
        "\n",
        "        # Extract review date\n",
        "        try:\n",
        "            fdate = reviews[n].find_element(By.CLASS_NAME, 'review-date').text\n",
        "        except:\n",
        "            fdate = \"No date\"\n",
        "\n",
        "        rating.append(frating)\n",
        "        title.append(ftitle)\n",
        "        text.append(ftext)\n",
        "        author_name.append(fname)\n",
        "        date.append(fdate)\n",
        "\n",
        "    except Exception as e:\n",
        "        print(f\"Error with review {n}: {e}\")\n",
        "        continue\n",
        "\n",
        "print(f\"Total Reviews Scraped: {len(title)}\")\n",
        "print(f\"First Review Rating: {rating[0]}\")\n",
        "print(f\"First Review Title: {title[0]}\")\n",
        "print(f\"First Review Content: {text[0]}\")\n",
        "print(f\"First Review User: {author_name[0]}\")\n",
        "print(f\"First Review Date: {date[0]}\")\n",
        "\n",
        "dr.quit()"
      ],
      "metadata": {
        "colab": {
          "base_uri": "https://localhost:8080/"
        },
        "id": "2_39jg3p6OyP",
        "outputId": "e9d05773-db4b-473c-fff4-7feb78faaa15"
      },
      "execution_count": null,
      "outputs": [
        {
          "output_type": "stream",
          "name": "stdout",
          "text": [
            "Total Reviews Scraped: 574\n",
            "First Review Rating: 8\n",
            "First Review Title: \"This is vehicular warfare.\"\n",
            "First Review Content: I don't think many other franchises has been as turbulent and uneven as The Fast and the Furious films. Things started off pretty earnestly with Rob Cohen's first film, but quickly careened into odd directions, with the ever-cheesy 2 Fast 2 Furious taking off and running with one main character while leaving the other in the dust, and with Tokyo Drift drifting away with totally different characters altogether. Thankfully, Fast & Furious realigned the series with its roots. But it wasn't until Fast Five when I really began to give a darn about this series. Granted that all films have had their fun moments, the fifth film magically tied in every single strand from every single film, and made every single character relevant. Best of all, it did so with a great sense of fun: it had great pacing, amusing comedy, great action, and it made the characters stand out as a collectively outstanding cast.So now Fast & Furious 6 has come out, reuniting the entire gang once more to take on bigger stakes. The spectacle in this film tries its best to be even bigger, more absurd, and more awesome than before: the film is effectively book-ended with two massive action setpieces. The first involves a decently destructive car chase in London, where the villain effectively uses his custom-built ride to launch other cars all over the place. The film's final act features a really crazy sequence in which a tank roars across a highway, crushing other cars and blowing up bridges. This all culminates with all the muscle cars banding together to bring down a massive cargo plane in a fiery blaze of glory. In between, the film slows down a bit, but there's frequent fist-fights and pursuits, a few scenes of witty comedy, and there's one decent car-racing scene.Whether or not you really dig this film may depend on how well you dig the characters and all their dynamics. It definitely helps to watch and understand the events of the first five films, because at this point, they've all been through so much and changed so much; for a late-comer like me, who never was invested in the characters until the last film, it can be confusing to remember who was who and what their history was. Fortunately, the film does insert some flashbacks and reminders for the audience's benefit. If you are keeping up with things, then the film will reward you with a cast of endearing and heartfelt characters, and the film's plot generally revolves around their continuing struggles. As far as the actual plot goes, it's pretty brainless and absurd action-movie fodder, and there are plot holes to be found. However, the film does have the merit of presenting a cast of villains to directly oppose the cast of heroes, and the story pulls out a few surprising twists.The film generally looks good, but many of the action scenes are hectically shot and edited, and it can be hard to tell what's going on in certain scenes. What you can see is awesome, but sometimes, it's just aggravating. Acting is generally fun and enjoyable from the whole cast. Writing gets the job done well enough. This production uses a plethora of quality sets, props, and costumes, with loads of flashy cars at its disposal, and some okay-looking special effects. This film uses some cool hip rap and techno music, while the music score is pretty cool (sounds a lot like Brian Tyler's work from Tokyo Drift, which was one of my favorite soundtracks).Best recommended to fans of the series, especially if you've been following the last few movies.4/5 (Entertainment: Good | Story: Pretty Good | Film: Pretty Good)\n",
            "First Review User: Al_The_Strange\n",
            "First Review Date: May 24, 2013\n"
          ]
        }
      ]
    },
    {
      "cell_type": "code",
      "source": [
        "import csv\n",
        "\n",
        "header = [\"Rating\", \"Title\", \"Content\", \"Author Name\", \"Date\"]\n",
        "\n",
        "rows = zip(rating, title, text, author_name, date)\n",
        "\n",
        "filename = \"FF6reviews_data.csv\"\n",
        "\n",
        "with open(filename, mode=\"w\", newline=\"\", encoding=\"utf-8\") as file:\n",
        "    writer = csv.writer(file)\n",
        "    writer.writerow(header)\n",
        "    writer.writerows(rows)\n",
        "\n",
        "print(f\"Data successfully saved to {filename}\")"
      ],
      "metadata": {
        "colab": {
          "base_uri": "https://localhost:8080/"
        },
        "id": "9Gq-qlUM6OjV",
        "outputId": "838146aa-5bac-4fe5-9db5-531a78c90597"
      },
      "execution_count": null,
      "outputs": [
        {
          "output_type": "stream",
          "name": "stdout",
          "text": [
            "Data successfully saved to FF6reviews_data.csv\n"
          ]
        }
      ]
    }
  ]
}