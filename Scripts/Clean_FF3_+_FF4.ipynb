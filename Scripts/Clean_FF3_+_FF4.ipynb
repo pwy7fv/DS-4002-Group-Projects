{
  "nbformat": 4,
  "nbformat_minor": 0,
  "metadata": {
    "colab": {
      "provenance": [],
      "authorship_tag": "ABX9TyOyeDOiX+7eWGYHbrNjBIAr",
      "include_colab_link": true
    },
    "kernelspec": {
      "name": "python3",
      "display_name": "Python 3"
    },
    "language_info": {
      "name": "python"
    }
  },
  "cells": [
    {
      "cell_type": "markdown",
      "metadata": {
        "id": "view-in-github",
        "colab_type": "text"
      },
      "source": [
        "<a href=\"https://colab.research.google.com/github/pwy7fv/DS-4002-Group-Projects/blob/main/Clean_FF3_%2B_FF4.ipynb\" target=\"_parent\"><img src=\"https://colab.research.google.com/assets/colab-badge.svg\" alt=\"Open In Colab\"/></a>"
      ]
    },
    {
      "cell_type": "code",
      "source": [
        "!git clone https://github.com/pwy7fv/DS-4002-Group-Projects"
      ],
      "metadata": {
        "colab": {
          "base_uri": "https://localhost:8080/"
        },
        "id": "IqFvCHkO-uqM",
        "outputId": "5dee56d4-0559-4311-f138-20f21abe58c2"
      },
      "execution_count": 1,
      "outputs": [
        {
          "output_type": "stream",
          "name": "stdout",
          "text": [
            "Cloning into 'DS-4002-Group-Projects'...\n",
            "remote: Enumerating objects: 111, done.\u001b[K\n",
            "remote: Counting objects: 100% (111/111), done.\u001b[K\n",
            "remote: Compressing objects: 100% (99/99), done.\u001b[K\n",
            "remote: Total 111 (delta 40), reused 0 (delta 0), pack-reused 0 (from 0)\u001b[K\n",
            "Receiving objects: 100% (111/111), 7.81 MiB | 7.61 MiB/s, done.\n",
            "Resolving deltas: 100% (40/40), done.\n"
          ]
        }
      ]
    },
    {
      "cell_type": "code",
      "source": [
        "import numpy as np\n",
        "import matplotlib.pyplot as plt\n",
        "import pandas as pd\n",
        "import seaborn as sns"
      ],
      "metadata": {
        "id": "C9MIAlZd4y0i"
      },
      "execution_count": 4,
      "outputs": []
    },
    {
      "cell_type": "code",
      "source": [
        "**Cleaning Fast and Furious: Tokyo Drift(2006)**"
      ],
      "metadata": {
        "id": "iVmuYiG2UnB1"
      },
      "execution_count": null,
      "outputs": []
    },
    {
      "cell_type": "code",
      "source": [
        "df3 = pd.read_csv('/content/DS-4002-Group-Projects/DATA/FF3reviews_data.csv', low_memory=False)\n",
        "df3.head()"
      ],
      "metadata": {
        "colab": {
          "base_uri": "https://localhost:8080/",
          "height": 206
        },
        "id": "pi3xyzOuB8fn",
        "outputId": "ff2c0ffb-caeb-4c7f-bd81-aee3683b4697"
      },
      "execution_count": 9,
      "outputs": [
        {
          "output_type": "execute_result",
          "data": {
            "text/plain": [
              "  Rating                                              Title  \\\n",
              "0      7                  The last one about actual racing?   \n",
              "1      7         For the most part a good car action flick.   \n",
              "2      7      Surprisingly good - Sung Kang steals the show   \n",
              "3      6  The drivers, the cars and the Drift races are ...   \n",
              "4      7  Decent, Hardly any substance, But Sometime to ...   \n",
              "\n",
              "                                             Content    Author Name  \\\n",
              "0  Look behind the woeful accent and this is actu...      sarnieken   \n",
              "1  The first film was BREAK POINT with cars. The ...       tmm_8705   \n",
              "2                                         No content  accidentalist   \n",
              "3  This is an exciting narration of drifting auto...      ma-cortes   \n",
              "4  What can I say about this movie that many have...    andykhiem87   \n",
              "\n",
              "           Date  \n",
              "0  Mar 28, 2021  \n",
              "1  Jun 28, 2013  \n",
              "2  Jun 14, 2006  \n",
              "3   Apr 8, 2008  \n",
              "4   Aug 1, 2006  "
            ],
            "text/html": [
              "\n",
              "  <div id=\"df-c3d30be1-ff70-4fb1-8d07-f4795bf009e5\" class=\"colab-df-container\">\n",
              "    <div>\n",
              "<style scoped>\n",
              "    .dataframe tbody tr th:only-of-type {\n",
              "        vertical-align: middle;\n",
              "    }\n",
              "\n",
              "    .dataframe tbody tr th {\n",
              "        vertical-align: top;\n",
              "    }\n",
              "\n",
              "    .dataframe thead th {\n",
              "        text-align: right;\n",
              "    }\n",
              "</style>\n",
              "<table border=\"1\" class=\"dataframe\">\n",
              "  <thead>\n",
              "    <tr style=\"text-align: right;\">\n",
              "      <th></th>\n",
              "      <th>Rating</th>\n",
              "      <th>Title</th>\n",
              "      <th>Content</th>\n",
              "      <th>Author Name</th>\n",
              "      <th>Date</th>\n",
              "    </tr>\n",
              "  </thead>\n",
              "  <tbody>\n",
              "    <tr>\n",
              "      <th>0</th>\n",
              "      <td>7</td>\n",
              "      <td>The last one about actual racing?</td>\n",
              "      <td>Look behind the woeful accent and this is actu...</td>\n",
              "      <td>sarnieken</td>\n",
              "      <td>Mar 28, 2021</td>\n",
              "    </tr>\n",
              "    <tr>\n",
              "      <th>1</th>\n",
              "      <td>7</td>\n",
              "      <td>For the most part a good car action flick.</td>\n",
              "      <td>The first film was BREAK POINT with cars. The ...</td>\n",
              "      <td>tmm_8705</td>\n",
              "      <td>Jun 28, 2013</td>\n",
              "    </tr>\n",
              "    <tr>\n",
              "      <th>2</th>\n",
              "      <td>7</td>\n",
              "      <td>Surprisingly good - Sung Kang steals the show</td>\n",
              "      <td>No content</td>\n",
              "      <td>accidentalist</td>\n",
              "      <td>Jun 14, 2006</td>\n",
              "    </tr>\n",
              "    <tr>\n",
              "      <th>3</th>\n",
              "      <td>6</td>\n",
              "      <td>The drivers, the cars and the Drift races are ...</td>\n",
              "      <td>This is an exciting narration of drifting auto...</td>\n",
              "      <td>ma-cortes</td>\n",
              "      <td>Apr 8, 2008</td>\n",
              "    </tr>\n",
              "    <tr>\n",
              "      <th>4</th>\n",
              "      <td>7</td>\n",
              "      <td>Decent, Hardly any substance, But Sometime to ...</td>\n",
              "      <td>What can I say about this movie that many have...</td>\n",
              "      <td>andykhiem87</td>\n",
              "      <td>Aug 1, 2006</td>\n",
              "    </tr>\n",
              "  </tbody>\n",
              "</table>\n",
              "</div>\n",
              "    <div class=\"colab-df-buttons\">\n",
              "\n",
              "  <div class=\"colab-df-container\">\n",
              "    <button class=\"colab-df-convert\" onclick=\"convertToInteractive('df-c3d30be1-ff70-4fb1-8d07-f4795bf009e5')\"\n",
              "            title=\"Convert this dataframe to an interactive table.\"\n",
              "            style=\"display:none;\">\n",
              "\n",
              "  <svg xmlns=\"http://www.w3.org/2000/svg\" height=\"24px\" viewBox=\"0 -960 960 960\">\n",
              "    <path d=\"M120-120v-720h720v720H120Zm60-500h600v-160H180v160Zm220 220h160v-160H400v160Zm0 220h160v-160H400v160ZM180-400h160v-160H180v160Zm440 0h160v-160H620v160ZM180-180h160v-160H180v160Zm440 0h160v-160H620v160Z\"/>\n",
              "  </svg>\n",
              "    </button>\n",
              "\n",
              "  <style>\n",
              "    .colab-df-container {\n",
              "      display:flex;\n",
              "      gap: 12px;\n",
              "    }\n",
              "\n",
              "    .colab-df-convert {\n",
              "      background-color: #E8F0FE;\n",
              "      border: none;\n",
              "      border-radius: 50%;\n",
              "      cursor: pointer;\n",
              "      display: none;\n",
              "      fill: #1967D2;\n",
              "      height: 32px;\n",
              "      padding: 0 0 0 0;\n",
              "      width: 32px;\n",
              "    }\n",
              "\n",
              "    .colab-df-convert:hover {\n",
              "      background-color: #E2EBFA;\n",
              "      box-shadow: 0px 1px 2px rgba(60, 64, 67, 0.3), 0px 1px 3px 1px rgba(60, 64, 67, 0.15);\n",
              "      fill: #174EA6;\n",
              "    }\n",
              "\n",
              "    .colab-df-buttons div {\n",
              "      margin-bottom: 4px;\n",
              "    }\n",
              "\n",
              "    [theme=dark] .colab-df-convert {\n",
              "      background-color: #3B4455;\n",
              "      fill: #D2E3FC;\n",
              "    }\n",
              "\n",
              "    [theme=dark] .colab-df-convert:hover {\n",
              "      background-color: #434B5C;\n",
              "      box-shadow: 0px 1px 3px 1px rgba(0, 0, 0, 0.15);\n",
              "      filter: drop-shadow(0px 1px 2px rgba(0, 0, 0, 0.3));\n",
              "      fill: #FFFFFF;\n",
              "    }\n",
              "  </style>\n",
              "\n",
              "    <script>\n",
              "      const buttonEl =\n",
              "        document.querySelector('#df-c3d30be1-ff70-4fb1-8d07-f4795bf009e5 button.colab-df-convert');\n",
              "      buttonEl.style.display =\n",
              "        google.colab.kernel.accessAllowed ? 'block' : 'none';\n",
              "\n",
              "      async function convertToInteractive(key) {\n",
              "        const element = document.querySelector('#df-c3d30be1-ff70-4fb1-8d07-f4795bf009e5');\n",
              "        const dataTable =\n",
              "          await google.colab.kernel.invokeFunction('convertToInteractive',\n",
              "                                                    [key], {});\n",
              "        if (!dataTable) return;\n",
              "\n",
              "        const docLinkHtml = 'Like what you see? Visit the ' +\n",
              "          '<a target=\"_blank\" href=https://colab.research.google.com/notebooks/data_table.ipynb>data table notebook</a>'\n",
              "          + ' to learn more about interactive tables.';\n",
              "        element.innerHTML = '';\n",
              "        dataTable['output_type'] = 'display_data';\n",
              "        await google.colab.output.renderOutput(dataTable, element);\n",
              "        const docLink = document.createElement('div');\n",
              "        docLink.innerHTML = docLinkHtml;\n",
              "        element.appendChild(docLink);\n",
              "      }\n",
              "    </script>\n",
              "  </div>\n",
              "\n",
              "\n",
              "<div id=\"df-49f113a5-a937-4b0c-92c0-2295acc9fc13\">\n",
              "  <button class=\"colab-df-quickchart\" onclick=\"quickchart('df-49f113a5-a937-4b0c-92c0-2295acc9fc13')\"\n",
              "            title=\"Suggest charts\"\n",
              "            style=\"display:none;\">\n",
              "\n",
              "<svg xmlns=\"http://www.w3.org/2000/svg\" height=\"24px\"viewBox=\"0 0 24 24\"\n",
              "     width=\"24px\">\n",
              "    <g>\n",
              "        <path d=\"M19 3H5c-1.1 0-2 .9-2 2v14c0 1.1.9 2 2 2h14c1.1 0 2-.9 2-2V5c0-1.1-.9-2-2-2zM9 17H7v-7h2v7zm4 0h-2V7h2v10zm4 0h-2v-4h2v4z\"/>\n",
              "    </g>\n",
              "</svg>\n",
              "  </button>\n",
              "\n",
              "<style>\n",
              "  .colab-df-quickchart {\n",
              "      --bg-color: #E8F0FE;\n",
              "      --fill-color: #1967D2;\n",
              "      --hover-bg-color: #E2EBFA;\n",
              "      --hover-fill-color: #174EA6;\n",
              "      --disabled-fill-color: #AAA;\n",
              "      --disabled-bg-color: #DDD;\n",
              "  }\n",
              "\n",
              "  [theme=dark] .colab-df-quickchart {\n",
              "      --bg-color: #3B4455;\n",
              "      --fill-color: #D2E3FC;\n",
              "      --hover-bg-color: #434B5C;\n",
              "      --hover-fill-color: #FFFFFF;\n",
              "      --disabled-bg-color: #3B4455;\n",
              "      --disabled-fill-color: #666;\n",
              "  }\n",
              "\n",
              "  .colab-df-quickchart {\n",
              "    background-color: var(--bg-color);\n",
              "    border: none;\n",
              "    border-radius: 50%;\n",
              "    cursor: pointer;\n",
              "    display: none;\n",
              "    fill: var(--fill-color);\n",
              "    height: 32px;\n",
              "    padding: 0;\n",
              "    width: 32px;\n",
              "  }\n",
              "\n",
              "  .colab-df-quickchart:hover {\n",
              "    background-color: var(--hover-bg-color);\n",
              "    box-shadow: 0 1px 2px rgba(60, 64, 67, 0.3), 0 1px 3px 1px rgba(60, 64, 67, 0.15);\n",
              "    fill: var(--button-hover-fill-color);\n",
              "  }\n",
              "\n",
              "  .colab-df-quickchart-complete:disabled,\n",
              "  .colab-df-quickchart-complete:disabled:hover {\n",
              "    background-color: var(--disabled-bg-color);\n",
              "    fill: var(--disabled-fill-color);\n",
              "    box-shadow: none;\n",
              "  }\n",
              "\n",
              "  .colab-df-spinner {\n",
              "    border: 2px solid var(--fill-color);\n",
              "    border-color: transparent;\n",
              "    border-bottom-color: var(--fill-color);\n",
              "    animation:\n",
              "      spin 1s steps(1) infinite;\n",
              "  }\n",
              "\n",
              "  @keyframes spin {\n",
              "    0% {\n",
              "      border-color: transparent;\n",
              "      border-bottom-color: var(--fill-color);\n",
              "      border-left-color: var(--fill-color);\n",
              "    }\n",
              "    20% {\n",
              "      border-color: transparent;\n",
              "      border-left-color: var(--fill-color);\n",
              "      border-top-color: var(--fill-color);\n",
              "    }\n",
              "    30% {\n",
              "      border-color: transparent;\n",
              "      border-left-color: var(--fill-color);\n",
              "      border-top-color: var(--fill-color);\n",
              "      border-right-color: var(--fill-color);\n",
              "    }\n",
              "    40% {\n",
              "      border-color: transparent;\n",
              "      border-right-color: var(--fill-color);\n",
              "      border-top-color: var(--fill-color);\n",
              "    }\n",
              "    60% {\n",
              "      border-color: transparent;\n",
              "      border-right-color: var(--fill-color);\n",
              "    }\n",
              "    80% {\n",
              "      border-color: transparent;\n",
              "      border-right-color: var(--fill-color);\n",
              "      border-bottom-color: var(--fill-color);\n",
              "    }\n",
              "    90% {\n",
              "      border-color: transparent;\n",
              "      border-bottom-color: var(--fill-color);\n",
              "    }\n",
              "  }\n",
              "</style>\n",
              "\n",
              "  <script>\n",
              "    async function quickchart(key) {\n",
              "      const quickchartButtonEl =\n",
              "        document.querySelector('#' + key + ' button');\n",
              "      quickchartButtonEl.disabled = true;  // To prevent multiple clicks.\n",
              "      quickchartButtonEl.classList.add('colab-df-spinner');\n",
              "      try {\n",
              "        const charts = await google.colab.kernel.invokeFunction(\n",
              "            'suggestCharts', [key], {});\n",
              "      } catch (error) {\n",
              "        console.error('Error during call to suggestCharts:', error);\n",
              "      }\n",
              "      quickchartButtonEl.classList.remove('colab-df-spinner');\n",
              "      quickchartButtonEl.classList.add('colab-df-quickchart-complete');\n",
              "    }\n",
              "    (() => {\n",
              "      let quickchartButtonEl =\n",
              "        document.querySelector('#df-49f113a5-a937-4b0c-92c0-2295acc9fc13 button');\n",
              "      quickchartButtonEl.style.display =\n",
              "        google.colab.kernel.accessAllowed ? 'block' : 'none';\n",
              "    })();\n",
              "  </script>\n",
              "</div>\n",
              "\n",
              "    </div>\n",
              "  </div>\n"
            ],
            "application/vnd.google.colaboratory.intrinsic+json": {
              "type": "dataframe",
              "variable_name": "df3",
              "summary": "{\n  \"name\": \"df3\",\n  \"rows\": 548,\n  \"fields\": [\n    {\n      \"column\": \"Rating\",\n      \"properties\": {\n        \"dtype\": \"category\",\n        \"num_unique_values\": 11,\n        \"samples\": [\n          \"3\",\n          \"7\",\n          \"4\"\n        ],\n        \"semantic_type\": \"\",\n        \"description\": \"\"\n      }\n    },\n    {\n      \"column\": \"Title\",\n      \"properties\": {\n        \"dtype\": \"string\",\n        \"num_unique_values\": 539,\n        \"samples\": [\n          \"Lived up to the purpose of its inception and then some.\",\n          \"An honest, real review\",\n          \"One of the few fast movies with charm\"\n        ],\n        \"semantic_type\": \"\",\n        \"description\": \"\"\n      }\n    },\n    {\n      \"column\": \"Content\",\n      \"properties\": {\n        \"dtype\": \"string\",\n        \"num_unique_values\": 412,\n        \"samples\": [\n          \"The Fast And The Furious Tokyo Drift Was The Second Fast & Furious Movie I Was After 2Fast 2Furious this movie is a lot of fun I loved it every time I rewatch it I have a blast it's so underrated. Ps if you are a Big Fast & Furious Fan Please give this movie a chance.\",\n          \"Intense would be the perfect one-word summary for this movie, similar to the original Fast and the Furious.The funny thing is however, the plot just seems to keep getting worse with each sequel that the F&F series pops out.In this one, Sean is your typical teenage truant who gets into loads of crap for all his street racing antics. He's sent to Japan to live with his soldier dad and there he's assimilated in the Japanese underground world of... DRIFTING! If you plan on seeing this film, prepare to leave your brain at the door because the plot here is almost non-existent and instead prepare to be hammered with an excessive amount of EYE CANDY.Hot babes, hot cars, a hot city and hot lead characters will fill your eyes while Sung Kang (Better Luck Tomorrow) delivers a terrific performance that adds some much-needed humanity and drama that has been lacking with its predecessor.Still not as good as its first older brother, but definitely better than its 2nd bro. Go see it, summer's finally taken off!!\",\n          \"This movie seems to be one of those that people either love or hate. On the one hand, its very different to the other movies, and a lot of people dislike it.\\nBut some of the rankings for the whole series put this in second place.The advantage Tokyo Drift has is, at its core, its a story about a boy in trouble, in a foreign place, and with little support from family.\\nThere's not machine guns or CGI or unbelievable stunts. There's not the Rock or Vin Deisel. It's fairly realistic, and the setting in Tokyo is superb.\\nThe main actor plays it understated, and none of the over the top charactatures we see in the other movies.\\nI've watched most of the movies, and while they are entertaining, the drama and plot in Tokyo drift, in addition to the amazing settign and visuals, is the one I have watched repeatedly.\"\n        ],\n        \"semantic_type\": \"\",\n        \"description\": \"\"\n      }\n    },\n    {\n      \"column\": \"Author Name\",\n      \"properties\": {\n        \"dtype\": \"string\",\n        \"num_unique_values\": 547,\n        \"samples\": [\n          \"takethe_veil\",\n          \"Joventino\",\n          \"Prismark10\"\n        ],\n        \"semantic_type\": \"\",\n        \"description\": \"\"\n      }\n    },\n    {\n      \"column\": \"Date\",\n      \"properties\": {\n        \"dtype\": \"object\",\n        \"num_unique_values\": 380,\n        \"samples\": [\n          \"Sep 9, 2019\",\n          \"Apr 30, 2007\",\n          \"Jun 13, 2014\"\n        ],\n        \"semantic_type\": \"\",\n        \"description\": \"\"\n      }\n    }\n  ]\n}"
            }
          },
          "metadata": {},
          "execution_count": 9
        }
      ]
    },
    {
      "cell_type": "code",
      "source": [
        "print(df3.head(),'\\n')\n",
        "print(df3.describe(),'\\n')"
      ],
      "metadata": {
        "colab": {
          "base_uri": "https://localhost:8080/"
        },
        "id": "z0z1jowvCzOv",
        "outputId": "b21e2705-cbf5-4619-88f4-0352725a62d6"
      },
      "execution_count": 10,
      "outputs": [
        {
          "output_type": "stream",
          "name": "stdout",
          "text": [
            "  Rating                                              Title  \\\n",
            "0      7                  The last one about actual racing?   \n",
            "1      7         For the most part a good car action flick.   \n",
            "2      7      Surprisingly good - Sung Kang steals the show   \n",
            "3      6  The drivers, the cars and the Drift races are ...   \n",
            "4      7  Decent, Hardly any substance, But Sometime to ...   \n",
            "\n",
            "                                             Content    Author Name  \\\n",
            "0  Look behind the woeful accent and this is actu...      sarnieken   \n",
            "1  The first film was BREAK POINT with cars. The ...       tmm_8705   \n",
            "2                                         No content  accidentalist   \n",
            "3  This is an exciting narration of drifting auto...      ma-cortes   \n",
            "4  What can I say about this movie that many have...    andykhiem87   \n",
            "\n",
            "           Date  \n",
            "0  Mar 28, 2021  \n",
            "1  Jun 28, 2013  \n",
            "2  Jun 14, 2006  \n",
            "3   Apr 8, 2008  \n",
            "4   Aug 1, 2006   \n",
            "\n",
            "       Rating        Title     Content Author Name          Date\n",
            "count     548          548         548         548           548\n",
            "unique     11          539         412         547           380\n",
            "top        10  Tokyo Drift  No content   info-5918  Jun 17, 2006\n",
            "freq       92            4         135           2            16 \n",
            "\n"
          ]
        }
      ]
    },
    {
      "cell_type": "code",
      "source": [
        "print(df3.shape, '\\n') # List the dimensions of df\n",
        "print(df3.dtypes, '\\n') # The types of the variables; `object` is a bad sign\n",
        "print(df3.columns, '\\n') # Column names"
      ],
      "metadata": {
        "colab": {
          "base_uri": "https://localhost:8080/"
        },
        "id": "pfX6kt9bErwu",
        "outputId": "30b11077-8b75-41ce-ab22-620b405007c6"
      },
      "execution_count": 11,
      "outputs": [
        {
          "output_type": "stream",
          "name": "stdout",
          "text": [
            "(548, 5) \n",
            "\n",
            "Rating         object\n",
            "Title          object\n",
            "Content        object\n",
            "Author Name    object\n",
            "Date           object\n",
            "dtype: object \n",
            "\n",
            "Index(['Rating', 'Title', 'Content', 'Author Name', 'Date'], dtype='object') \n",
            "\n"
          ]
        }
      ]
    },
    {
      "cell_type": "code",
      "source": [
        "var = 'Rating'  # Categorical variable example\n",
        "print(df3[var].unique(),'\\n') # 'n' is not listed in the codebook\n",
        "print(df3[var].value_counts(), '\\n') #\n",
        "print(df3[var].hist(), '\\n') # About 72% of observations are male"
      ],
      "metadata": {
        "colab": {
          "base_uri": "https://localhost:8080/",
          "height": 751
        },
        "id": "iV-VlYRpFFbr",
        "outputId": "5dcb66dd-cde2-4394-8327-681a3557b2bc"
      },
      "execution_count": 13,
      "outputs": [
        {
          "output_type": "stream",
          "name": "stdout",
          "text": [
            "['7' '6' 'No rating' '5' '8' '3' '10' '1' '2' '4' '9'] \n",
            "\n",
            "Rating\n",
            "10           92\n",
            "6            74\n",
            "8            72\n",
            "7            64\n",
            "5            51\n",
            "4            45\n",
            "9            45\n",
            "1            39\n",
            "3            37\n",
            "2            19\n",
            "No rating    10\n",
            "Name: count, dtype: int64 \n",
            "\n",
            "Axes(0.125,0.11;0.775x0.77) \n",
            "\n"
          ]
        },
        {
          "output_type": "display_data",
          "data": {
            "text/plain": [
              "<Figure size 640x480 with 1 Axes>"
            ],
            "image/png": "[encoded data removed]"
          },
          "metadata": {}
        }
      ]
    },
    {
      "cell_type": "code",
      "source": [
        "no_title_count = df3[df3['Title'] == 'No title'].shape[0]\n",
        "print(no_title_count)"
      ],
      "metadata": {
        "colab": {
          "base_uri": "https://localhost:8080/"
        },
        "id": "kn_IFK_uOjPs",
        "outputId": "fc74a662-5127-4a7b-f7ca-7a04eabbbdaa"
      },
      "execution_count": 24,
      "outputs": [
        {
          "output_type": "stream",
          "name": "stdout",
          "text": [
            "0\n"
          ]
        }
      ]
    },
    {
      "cell_type": "code",
      "source": [
        "no_content_count = df3[df3['Content'] == 'No content'].shape[0]\n",
        "print(no_content_count)"
      ],
      "metadata": {
        "colab": {
          "base_uri": "https://localhost:8080/"
        },
        "id": "bzFvGDUUOm9g",
        "outputId": "93e3e61b-f523-434c-87f5-7afdedaed146"
      },
      "execution_count": 26,
      "outputs": [
        {
          "output_type": "stream",
          "name": "stdout",
          "text": [
            "135\n"
          ]
        }
      ]
    },
    {
      "cell_type": "code",
      "source": [
        "no_author_count = df3[df3['Author Name'] == 'No author name'].shape[0]\n",
        "print(no_author_count)"
      ],
      "metadata": {
        "colab": {
          "base_uri": "https://localhost:8080/"
        },
        "id": "kYGTQDOOOs09",
        "outputId": "3e429318-827c-4cca-e445-b3dae471bb3a"
      },
      "execution_count": 27,
      "outputs": [
        {
          "output_type": "stream",
          "name": "stdout",
          "text": [
            "0\n"
          ]
        }
      ]
    },
    {
      "cell_type": "code",
      "source": [
        "no_date_count = df3[df3['Date'] == 'No date'].shape[0]\n",
        "print(no_date_count)"
      ],
      "metadata": {
        "colab": {
          "base_uri": "https://localhost:8080/"
        },
        "id": "mr1LYyr8QOw5",
        "outputId": "6ea8b6ba-ebe8-4029-8a71-b69e4e522f33"
      },
      "execution_count": 28,
      "outputs": [
        {
          "output_type": "stream",
          "name": "stdout",
          "text": [
            "0\n"
          ]
        }
      ]
    },
    {
      "cell_type": "code",
      "source": [
        "no_rating_count = df3[df3['Rating'] == 'No rating'].shape[0]\n",
        "print(no_rating_count)"
      ],
      "metadata": {
        "colab": {
          "base_uri": "https://localhost:8080/"
        },
        "id": "dCJL4S-ZQcHF",
        "outputId": "a5c5db20-db85-4791-bb82-351e50735bfc"
      },
      "execution_count": 30,
      "outputs": [
        {
          "output_type": "stream",
          "name": "stdout",
          "text": [
            "10\n"
          ]
        }
      ]
    },
    {
      "cell_type": "code",
      "source": [
        "var = 'Date'  # Categorical variable example\n",
        "print(df3[var].unique(),'\\n')\n",
        "print(df3[var].value_counts(), '\\n')\n",
        "print(df3[var].hist(), '\\n')"
      ],
      "metadata": {
        "colab": {
          "base_uri": "https://localhost:8080/",
          "height": 930
        },
        "id": "ODPmUOJ0OvqS",
        "outputId": "5810937f-bd9a-498b-baea-27ba4e445e33"
      },
      "execution_count": 32,
      "outputs": [
        {
          "output_type": "stream",
          "name": "stdout",
          "text": [
            "<DatetimeArray>\n",
            "['2021-03-28 00:00:00', '2013-06-28 00:00:00', '2006-06-14 00:00:00',\n",
            " '2008-04-08 00:00:00', '2006-08-01 00:00:00', '2024-07-08 00:00:00',\n",
            " '2006-06-23 00:00:00', '2006-06-21 00:00:00', '2021-08-17 00:00:00',\n",
            " '2015-12-17 00:00:00',\n",
            " ...\n",
            " '2020-02-04 00:00:00', '2021-09-20 00:00:00', '2007-02-09 00:00:00',\n",
            " '2006-07-15 00:00:00', '2007-01-25 00:00:00', '2022-04-04 00:00:00',\n",
            " '2006-10-05 00:00:00', '2006-07-16 00:00:00', '2021-05-06 00:00:00',\n",
            " '2010-05-15 00:00:00']\n",
            "Length: 380, dtype: datetime64[ns] \n",
            "\n",
            "Date\n",
            "2006-06-17    16\n",
            "2006-06-19    14\n",
            "2006-06-16    11\n",
            "2006-06-15    11\n",
            "2006-06-21    10\n",
            "              ..\n",
            "2009-06-27     1\n",
            "2023-11-09     1\n",
            "2008-09-21     1\n",
            "2013-11-10     1\n",
            "2010-05-15     1\n",
            "Name: count, Length: 380, dtype: int64 \n",
            "\n",
            "Axes(0.125,0.11;0.775x0.77) \n",
            "\n"
          ]
        },
        {
          "output_type": "display_data",
          "data": {
            "text/plain": [
              "<Figure size 640x480 with 1 Axes>"
            ],
            "image/png": "[encoded data removed]"
          },
          "metadata": {}
        }
      ]
    },
    {
      "cell_type": "code",
      "source": [
        "pd.to_numeric(df3['Rating'], errors='coerce') #converting Rating to float"
      ],
      "metadata": {
        "colab": {
          "base_uri": "https://localhost:8080/",
          "height": 458
        },
        "id": "Jt-7qZIWI9Po",
        "outputId": "a286a10f-3998-47bc-9251-4b6ae39a2b59"
      },
      "execution_count": 14,
      "outputs": [
        {
          "output_type": "execute_result",
          "data": {
            "text/plain": [
              "0       7.0\n",
              "1       7.0\n",
              "2       7.0\n",
              "3       6.0\n",
              "4       7.0\n",
              "       ... \n",
              "543    10.0\n",
              "544     9.0\n",
              "545    10.0\n",
              "546     8.0\n",
              "547     8.0\n",
              "Name: Rating, Length: 548, dtype: float64"
            ],
            "text/html": [
              "<div>\n",
              "<style scoped>\n",
              "    .dataframe tbody tr th:only-of-type {\n",
              "        vertical-align: middle;\n",
              "    }\n",
              "\n",
              "    .dataframe tbody tr th {\n",
              "        vertical-align: top;\n",
              "    }\n",
              "\n",
              "    .dataframe thead th {\n",
              "        text-align: right;\n",
              "    }\n",
              "</style>\n",
              "<table border=\"1\" class=\"dataframe\">\n",
              "  <thead>\n",
              "    <tr style=\"text-align: right;\">\n",
              "      <th></th>\n",
              "      <th>Rating</th>\n",
              "    </tr>\n",
              "  </thead>\n",
              "  <tbody>\n",
              "    <tr>\n",
              "      <th>0</th>\n",
              "      <td>7.0</td>\n",
              "    </tr>\n",
              "    <tr>\n",
              "      <th>1</th>\n",
              "      <td>7.0</td>\n",
              "    </tr>\n",
              "    <tr>\n",
              "      <th>2</th>\n",
              "      <td>7.0</td>\n",
              "    </tr>\n",
              "    <tr>\n",
              "      <th>3</th>\n",
              "      <td>6.0</td>\n",
              "    </tr>\n",
              "    <tr>\n",
              "      <th>4</th>\n",
              "      <td>7.0</td>\n",
              "    </tr>\n",
              "    <tr>\n",
              "      <th>...</th>\n",
              "      <td>...</td>\n",
              "    </tr>\n",
              "    <tr>\n",
              "      <th>543</th>\n",
              "      <td>10.0</td>\n",
              "    </tr>\n",
              "    <tr>\n",
              "      <th>544</th>\n",
              "      <td>9.0</td>\n",
              "    </tr>\n",
              "    <tr>\n",
              "      <th>545</th>\n",
              "      <td>10.0</td>\n",
              "    </tr>\n",
              "    <tr>\n",
              "      <th>546</th>\n",
              "      <td>8.0</td>\n",
              "    </tr>\n",
              "    <tr>\n",
              "      <th>547</th>\n",
              "      <td>8.0</td>\n",
              "    </tr>\n",
              "  </tbody>\n",
              "</table>\n",
              "<p>548 rows × 1 columns</p>\n",
              "</div><br><label><b>dtype:</b> float64</label>"
            ]
          },
          "metadata": {},
          "execution_count": 14
        }
      ]
    },
    {
      "cell_type": "code",
      "source": [
        "df3['Date'] = pd.to_datetime(df3['Date']) #converting Date to datetime so its easier for analysis\n",
        "print(df3.dtypes) #checking to make sure it converted properly"
      ],
      "metadata": {
        "colab": {
          "base_uri": "https://localhost:8080/"
        },
        "id": "GKJgXdtjJCPU",
        "outputId": "f10a6cf8-e2f4-45f8-a3b6-8aa878b8d710"
      },
      "execution_count": 18,
      "outputs": [
        {
          "output_type": "stream",
          "name": "stdout",
          "text": [
            "Rating                 object\n",
            "Title                  object\n",
            "Content                object\n",
            "Author Name            object\n",
            "Date           datetime64[ns]\n",
            "dtype: object\n"
          ]
        }
      ]
    },
    {
      "cell_type": "code",
      "source": [
        "print(df3['Rating'].isnull().sum())\n",
        "print(df3['Title'].isnull().sum())\n",
        "print(df3['Content'].isnull().sum())\n",
        "print(df3['Author Name'].isnull().sum())\n",
        "print(df3['Date'].isnull().sum())"
      ],
      "metadata": {
        "colab": {
          "base_uri": "https://localhost:8080/"
        },
        "id": "3CiqlXdNNL0I",
        "outputId": "248288df-39f1-4863-b95b-b05f63cf5d36"
      },
      "execution_count": 21,
      "outputs": [
        {
          "output_type": "stream",
          "name": "stdout",
          "text": [
            "0\n",
            "0\n",
            "0\n",
            "0\n",
            "0\n"
          ]
        }
      ]
    },
    {
      "cell_type": "code",
      "source": [
        "#counting how many reviews per year\n",
        "df3['Year'] = df3['Date'].dt.year\n",
        "print(df3['Year'].unique(),'\\n')\n",
        "print(df3['Year'].value_counts(), '\\n')"
      ],
      "metadata": {
        "colab": {
          "base_uri": "https://localhost:8080/"
        },
        "id": "UauRRA26TEma",
        "outputId": "84d0b0d5-9df1-454d-b822-4745b2065743"
      },
      "execution_count": 33,
      "outputs": [
        {
          "output_type": "stream",
          "name": "stdout",
          "text": [
            "[2021 2013 2006 2008 2024 2015 2020 2019 2016 2014 2007 2017 2023 2018\n",
            " 2009 2022 2011 2025 2012 2010] \n",
            "\n",
            "Year\n",
            "2006    243\n",
            "2021     46\n",
            "2020     33\n",
            "2023     31\n",
            "2007     24\n",
            "2015     19\n",
            "2024     18\n",
            "2019     18\n",
            "2013     17\n",
            "2022     17\n",
            "2017     12\n",
            "2008     11\n",
            "2009     10\n",
            "2011     10\n",
            "2016      9\n",
            "2014      9\n",
            "2018      8\n",
            "2012      5\n",
            "2010      5\n",
            "2025      3\n",
            "Name: count, dtype: int64 \n",
            "\n"
          ]
        }
      ]
    },
    {
      "cell_type": "markdown",
      "source": [
        "**Cleaning Fast & Furious 4(2009)**"
      ],
      "metadata": {
        "id": "DKKuISr7UZxr"
      }
    },
    {
      "cell_type": "code",
      "source": [
        "df4 = pd.read_csv('/content/DS-4002-Group-Projects/DATA/FF4reviews_data.csv', low_memory=False)\n",
        "df4.head()"
      ],
      "metadata": {
        "colab": {
          "base_uri": "https://localhost:8080/",
          "height": 206
        },
        "id": "V9oI0edeTaRF",
        "outputId": "1a1c0469-695a-4dcf-8bf6-6605a0c67889"
      },
      "execution_count": 34,
      "outputs": [
        {
          "output_type": "execute_result",
          "data": {
            "text/plain": [
              "  Rating                                           Title  \\\n",
              "0      7                       Still fast, still furious   \n",
              "1      7  The Family is back and the franchise is Saved!   \n",
              "2      7                                 Great Adventure   \n",
              "3      7                      It's nice to have you back   \n",
              "4      7                The best of the series by a mile   \n",
              "\n",
              "                                             Content       Author Name  \\\n",
              "0                                         No content         C-Younkin   \n",
              "1  Dom Toretto (Vin Diesel) and Letty (Michelle R...       SnoopyStyle   \n",
              "2  When Dominic Toretto (Vin Diesel) is informed ...  claudio_carvalho   \n",
              "3                                         No content        joshrortiz   \n",
              "4                                         No content        phatrick88   \n",
              "\n",
              "           Date  \n",
              "0  Mar 31, 2009  \n",
              "1  Feb 23, 2014  \n",
              "2  Dec 12, 2009  \n",
              "3  May 27, 2013  \n",
              "4   Apr 3, 2009  "
            ],
            "text/html": [
              "\n",
              "  <div id=\"df-df16d70a-473b-4907-a235-e7ab37fc1ba4\" class=\"colab-df-container\">\n",
              "    <div>\n",
              "<style scoped>\n",
              "    .dataframe tbody tr th:only-of-type {\n",
              "        vertical-align: middle;\n",
              "    }\n",
              "\n",
              "    .dataframe tbody tr th {\n",
              "        vertical-align: top;\n",
              "    }\n",
              "\n",
              "    .dataframe thead th {\n",
              "        text-align: right;\n",
              "    }\n",
              "</style>\n",
              "<table border=\"1\" class=\"dataframe\">\n",
              "  <thead>\n",
              "    <tr style=\"text-align: right;\">\n",
              "      <th></th>\n",
              "      <th>Rating</th>\n",
              "      <th>Title</th>\n",
              "      <th>Content</th>\n",
              "      <th>Author Name</th>\n",
              "      <th>Date</th>\n",
              "    </tr>\n",
              "  </thead>\n",
              "  <tbody>\n",
              "    <tr>\n",
              "      <th>0</th>\n",
              "      <td>7</td>\n",
              "      <td>Still fast, still furious</td>\n",
              "      <td>No content</td>\n",
              "      <td>C-Younkin</td>\n",
              "      <td>Mar 31, 2009</td>\n",
              "    </tr>\n",
              "    <tr>\n",
              "      <th>1</th>\n",
              "      <td>7</td>\n",
              "      <td>The Family is back and the franchise is Saved!</td>\n",
              "      <td>Dom Toretto (Vin Diesel) and Letty (Michelle R...</td>\n",
              "      <td>SnoopyStyle</td>\n",
              "      <td>Feb 23, 2014</td>\n",
              "    </tr>\n",
              "    <tr>\n",
              "      <th>2</th>\n",
              "      <td>7</td>\n",
              "      <td>Great Adventure</td>\n",
              "      <td>When Dominic Toretto (Vin Diesel) is informed ...</td>\n",
              "      <td>claudio_carvalho</td>\n",
              "      <td>Dec 12, 2009</td>\n",
              "    </tr>\n",
              "    <tr>\n",
              "      <th>3</th>\n",
              "      <td>7</td>\n",
              "      <td>It's nice to have you back</td>\n",
              "      <td>No content</td>\n",
              "      <td>joshrortiz</td>\n",
              "      <td>May 27, 2013</td>\n",
              "    </tr>\n",
              "    <tr>\n",
              "      <th>4</th>\n",
              "      <td>7</td>\n",
              "      <td>The best of the series by a mile</td>\n",
              "      <td>No content</td>\n",
              "      <td>phatrick88</td>\n",
              "      <td>Apr 3, 2009</td>\n",
              "    </tr>\n",
              "  </tbody>\n",
              "</table>\n",
              "</div>\n",
              "    <div class=\"colab-df-buttons\">\n",
              "\n",
              "  <div class=\"colab-df-container\">\n",
              "    <button class=\"colab-df-convert\" onclick=\"convertToInteractive('df-df16d70a-473b-4907-a235-e7ab37fc1ba4')\"\n",
              "            title=\"Convert this dataframe to an interactive table.\"\n",
              "            style=\"display:none;\">\n",
              "\n",
              "  <svg xmlns=\"http://www.w3.org/2000/svg\" height=\"24px\" viewBox=\"0 -960 960 960\">\n",
              "    <path d=\"M120-120v-720h720v720H120Zm60-500h600v-160H180v160Zm220 220h160v-160H400v160Zm0 220h160v-160H400v160ZM180-400h160v-160H180v160Zm440 0h160v-160H620v160ZM180-180h160v-160H180v160Zm440 0h160v-160H620v160Z\"/>\n",
              "  </svg>\n",
              "    </button>\n",
              "\n",
              "  <style>\n",
              "    .colab-df-container {\n",
              "      display:flex;\n",
              "      gap: 12px;\n",
              "    }\n",
              "\n",
              "    .colab-df-convert {\n",
              "      background-color: #E8F0FE;\n",
              "      border: none;\n",
              "      border-radius: 50%;\n",
              "      cursor: pointer;\n",
              "      display: none;\n",
              "      fill: #1967D2;\n",
              "      height: 32px;\n",
              "      padding: 0 0 0 0;\n",
              "      width: 32px;\n",
              "    }\n",
              "\n",
              "    .colab-df-convert:hover {\n",
              "      background-color: #E2EBFA;\n",
              "      box-shadow: 0px 1px 2px rgba(60, 64, 67, 0.3), 0px 1px 3px 1px rgba(60, 64, 67, 0.15);\n",
              "      fill: #174EA6;\n",
              "    }\n",
              "\n",
              "    .colab-df-buttons div {\n",
              "      margin-bottom: 4px;\n",
              "    }\n",
              "\n",
              "    [theme=dark] .colab-df-convert {\n",
              "      background-color: #3B4455;\n",
              "      fill: #D2E3FC;\n",
              "    }\n",
              "\n",
              "    [theme=dark] .colab-df-convert:hover {\n",
              "      background-color: #434B5C;\n",
              "      box-shadow: 0px 1px 3px 1px rgba(0, 0, 0, 0.15);\n",
              "      filter: drop-shadow(0px 1px 2px rgba(0, 0, 0, 0.3));\n",
              "      fill: #FFFFFF;\n",
              "    }\n",
              "  </style>\n",
              "\n",
              "    <script>\n",
              "      const buttonEl =\n",
              "        document.querySelector('#df-df16d70a-473b-4907-a235-e7ab37fc1ba4 button.colab-df-convert');\n",
              "      buttonEl.style.display =\n",
              "        google.colab.kernel.accessAllowed ? 'block' : 'none';\n",
              "\n",
              "      async function convertToInteractive(key) {\n",
              "        const element = document.querySelector('#df-df16d70a-473b-4907-a235-e7ab37fc1ba4');\n",
              "        const dataTable =\n",
              "          await google.colab.kernel.invokeFunction('convertToInteractive',\n",
              "                                                    [key], {});\n",
              "        if (!dataTable) return;\n",
              "\n",
              "        const docLinkHtml = 'Like what you see? Visit the ' +\n",
              "          '<a target=\"_blank\" href=https://colab.research.google.com/notebooks/data_table.ipynb>data table notebook</a>'\n",
              "          + ' to learn more about interactive tables.';\n",
              "        element.innerHTML = '';\n",
              "        dataTable['output_type'] = 'display_data';\n",
              "        await google.colab.output.renderOutput(dataTable, element);\n",
              "        const docLink = document.createElement('div');\n",
              "        docLink.innerHTML = docLinkHtml;\n",
              "        element.appendChild(docLink);\n",
              "      }\n",
              "    </script>\n",
              "  </div>\n",
              "\n",
              "\n",
              "<div id=\"df-f288eb0b-feed-424d-abad-835b3969b3ab\">\n",
              "  <button class=\"colab-df-quickchart\" onclick=\"quickchart('df-f288eb0b-feed-424d-abad-835b3969b3ab')\"\n",
              "            title=\"Suggest charts\"\n",
              "            style=\"display:none;\">\n",
              "\n",
              "<svg xmlns=\"http://www.w3.org/2000/svg\" height=\"24px\"viewBox=\"0 0 24 24\"\n",
              "     width=\"24px\">\n",
              "    <g>\n",
              "        <path d=\"M19 3H5c-1.1 0-2 .9-2 2v14c0 1.1.9 2 2 2h14c1.1 0 2-.9 2-2V5c0-1.1-.9-2-2-2zM9 17H7v-7h2v7zm4 0h-2V7h2v10zm4 0h-2v-4h2v4z\"/>\n",
              "    </g>\n",
              "</svg>\n",
              "  </button>\n",
              "\n",
              "<style>\n",
              "  .colab-df-quickchart {\n",
              "      --bg-color: #E8F0FE;\n",
              "      --fill-color: #1967D2;\n",
              "      --hover-bg-color: #E2EBFA;\n",
              "      --hover-fill-color: #174EA6;\n",
              "      --disabled-fill-color: #AAA;\n",
              "      --disabled-bg-color: #DDD;\n",
              "  }\n",
              "\n",
              "  [theme=dark] .colab-df-quickchart {\n",
              "      --bg-color: #3B4455;\n",
              "      --fill-color: #D2E3FC;\n",
              "      --hover-bg-color: #434B5C;\n",
              "      --hover-fill-color: #FFFFFF;\n",
              "      --disabled-bg-color: #3B4455;\n",
              "      --disabled-fill-color: #666;\n",
              "  }\n",
              "\n",
              "  .colab-df-quickchart {\n",
              "    background-color: var(--bg-color);\n",
              "    border: none;\n",
              "    border-radius: 50%;\n",
              "    cursor: pointer;\n",
              "    display: none;\n",
              "    fill: var(--fill-color);\n",
              "    height: 32px;\n",
              "    padding: 0;\n",
              "    width: 32px;\n",
              "  }\n",
              "\n",
              "  .colab-df-quickchart:hover {\n",
              "    background-color: var(--hover-bg-color);\n",
              "    box-shadow: 0 1px 2px rgba(60, 64, 67, 0.3), 0 1px 3px 1px rgba(60, 64, 67, 0.15);\n",
              "    fill: var(--button-hover-fill-color);\n",
              "  }\n",
              "\n",
              "  .colab-df-quickchart-complete:disabled,\n",
              "  .colab-df-quickchart-complete:disabled:hover {\n",
              "    background-color: var(--disabled-bg-color);\n",
              "    fill: var(--disabled-fill-color);\n",
              "    box-shadow: none;\n",
              "  }\n",
              "\n",
              "  .colab-df-spinner {\n",
              "    border: 2px solid var(--fill-color);\n",
              "    border-color: transparent;\n",
              "    border-bottom-color: var(--fill-color);\n",
              "    animation:\n",
              "      spin 1s steps(1) infinite;\n",
              "  }\n",
              "\n",
              "  @keyframes spin {\n",
              "    0% {\n",
              "      border-color: transparent;\n",
              "      border-bottom-color: var(--fill-color);\n",
              "      border-left-color: var(--fill-color);\n",
              "    }\n",
              "    20% {\n",
              "      border-color: transparent;\n",
              "      border-left-color: var(--fill-color);\n",
              "      border-top-color: var(--fill-color);\n",
              "    }\n",
              "    30% {\n",
              "      border-color: transparent;\n",
              "      border-left-color: var(--fill-color);\n",
              "      border-top-color: var(--fill-color);\n",
              "      border-right-color: var(--fill-color);\n",
              "    }\n",
              "    40% {\n",
              "      border-color: transparent;\n",
              "      border-right-color: var(--fill-color);\n",
              "      border-top-color: var(--fill-color);\n",
              "    }\n",
              "    60% {\n",
              "      border-color: transparent;\n",
              "      border-right-color: var(--fill-color);\n",
              "    }\n",
              "    80% {\n",
              "      border-color: transparent;\n",
              "      border-right-color: var(--fill-color);\n",
              "      border-bottom-color: var(--fill-color);\n",
              "    }\n",
              "    90% {\n",
              "      border-color: transparent;\n",
              "      border-bottom-color: var(--fill-color);\n",
              "    }\n",
              "  }\n",
              "</style>\n",
              "\n",
              "  <script>\n",
              "    async function quickchart(key) {\n",
              "      const quickchartButtonEl =\n",
              "        document.querySelector('#' + key + ' button');\n",
              "      quickchartButtonEl.disabled = true;  // To prevent multiple clicks.\n",
              "      quickchartButtonEl.classList.add('colab-df-spinner');\n",
              "      try {\n",
              "        const charts = await google.colab.kernel.invokeFunction(\n",
              "            'suggestCharts', [key], {});\n",
              "      } catch (error) {\n",
              "        console.error('Error during call to suggestCharts:', error);\n",
              "      }\n",
              "      quickchartButtonEl.classList.remove('colab-df-spinner');\n",
              "      quickchartButtonEl.classList.add('colab-df-quickchart-complete');\n",
              "    }\n",
              "    (() => {\n",
              "      let quickchartButtonEl =\n",
              "        document.querySelector('#df-f288eb0b-feed-424d-abad-835b3969b3ab button');\n",
              "      quickchartButtonEl.style.display =\n",
              "        google.colab.kernel.accessAllowed ? 'block' : 'none';\n",
              "    })();\n",
              "  </script>\n",
              "</div>\n",
              "\n",
              "    </div>\n",
              "  </div>\n"
            ],
            "application/vnd.google.colaboratory.intrinsic+json": {
              "type": "dataframe",
              "variable_name": "df4",
              "summary": "{\n  \"name\": \"df4\",\n  \"rows\": 349,\n  \"fields\": [\n    {\n      \"column\": \"Rating\",\n      \"properties\": {\n        \"dtype\": \"category\",\n        \"num_unique_values\": 11,\n        \"samples\": [\n          \"10\",\n          \"7\",\n          \"3\"\n        ],\n        \"semantic_type\": \"\",\n        \"description\": \"\"\n      }\n    },\n    {\n      \"column\": \"Title\",\n      \"properties\": {\n        \"dtype\": \"string\",\n        \"num_unique_values\": 341,\n        \"samples\": [\n          \"The franchise has been saved from it's predecessor\",\n          \"It's a decent movie.\",\n          \"Fast 4: How Are These Still a Thing?\"\n        ],\n        \"semantic_type\": \"\",\n        \"description\": \"\"\n      }\n    },\n    {\n      \"column\": \"Content\",\n      \"properties\": {\n        \"dtype\": \"string\",\n        \"num_unique_values\": 245,\n        \"samples\": [\n          \"The Fast and the Furious series movies always continue with more excitement and action than the previous movie. The first scene of the film, as usual, appears before the audience with the peak of action and tension. The action of the first scenes allows the audience to lock on the screen throughout the movie. The movie feeds the audience to action. Dom's coming back in series 4 gives the audience what he wants, but what happened to Letty is disappointing to the audience.Adding a mystery about Braga to the movie has also contributed greatly to the audience watching the movie with curious looks.There is nothing to say to the cars, they are all very good, very fast and beautifully modified.But this movie is also overshadowed by erotic scenes like the first movie of the series. Especially the kissing scene of two girls does not like people at all. I wish they shoot the movies without adding the erotic scenes into the script.\",\n          \"This is one of these 107-minute testosterone movies guys crave every once in awhile, some more than others. Being a somewhat-old guy, I don't look as these as often anymore but every once in awhile it's fun to kick back and just watch fast cars, loose women, wild action and fairly-brainless film.There isn't much of a plot but my guess is people who are fans of this film series don't care. Just give us the above - muscle cars, macho men, sexy babes and a few great chase scenes - and that's all that is asked. I thought the best scene was the first one, a chase down mountain in the Dominican Republic. That was like a James Bond opening scene: a real attention-getter.After that, you get the normal F&F material, which glamorizes things that shouldn't be (racing through crowded streets, etc.) but also has the \\\"good\\\" guys going to capture a drug lord from Mexico.....and a lot of punks along the way. They all sneer and have a lot of tattoos. I've only seen this one and the first in the series but from what I read here, I've seen the two best of the four Fast & Furious films. Vin Diesel helps make them a notch above the others, I suspect. He's always interesting as \\\"Dom Toretto\\\" and his character is the most credible.\",\n          \"Great movie as always. Paul Walker and Vin Disel as always never disappoint and there's lots of great car scenes and plenty of drama, tricks , thrills and spills. If you love this franchise then this is a must see.\"\n        ],\n        \"semantic_type\": \"\",\n        \"description\": \"\"\n      }\n    },\n    {\n      \"column\": \"Author Name\",\n      \"properties\": {\n        \"dtype\": \"string\",\n        \"num_unique_values\": 349,\n        \"samples\": [\n          \"schmittfalte\",\n          \"siriphechrkulcanthr\",\n          \"EthanBJones_03\"\n        ],\n        \"semantic_type\": \"\",\n        \"description\": \"\"\n      }\n    },\n    {\n      \"column\": \"Date\",\n      \"properties\": {\n        \"dtype\": \"object\",\n        \"num_unique_values\": 258,\n        \"samples\": [\n          \"May 5, 2009\",\n          \"Jun 10, 2009\",\n          \"May 11, 2019\"\n        ],\n        \"semantic_type\": \"\",\n        \"description\": \"\"\n      }\n    }\n  ]\n}"
            }
          },
          "metadata": {},
          "execution_count": 34
        }
      ]
    },
    {
      "cell_type": "code",
      "source": [
        "print(df4.head(),'\\n')\n",
        "print(df4.describe(),'\\n')"
      ],
      "metadata": {
        "colab": {
          "base_uri": "https://localhost:8080/"
        },
        "id": "-CtmzeHyU9Fh",
        "outputId": "fca96532-ccc9-4b3d-a5f3-15a32a11bdef"
      },
      "execution_count": 36,
      "outputs": [
        {
          "output_type": "stream",
          "name": "stdout",
          "text": [
            "  Rating                                           Title  \\\n",
            "0      7                       Still fast, still furious   \n",
            "1      7  The Family is back and the franchise is Saved!   \n",
            "2      7                                 Great Adventure   \n",
            "3      7                      It's nice to have you back   \n",
            "4      7                The best of the series by a mile   \n",
            "\n",
            "                                             Content       Author Name  \\\n",
            "0                                         No content         C-Younkin   \n",
            "1  Dom Toretto (Vin Diesel) and Letty (Michelle R...       SnoopyStyle   \n",
            "2  When Dominic Toretto (Vin Diesel) is informed ...  claudio_carvalho   \n",
            "3                                         No content        joshrortiz   \n",
            "4                                         No content        phatrick88   \n",
            "\n",
            "           Date  \n",
            "0  Mar 31, 2009  \n",
            "1  Feb 23, 2014  \n",
            "2  Dec 12, 2009  \n",
            "3  May 27, 2013  \n",
            "4   Apr 3, 2009   \n",
            "\n",
            "       Rating           Title     Content Author Name         Date\n",
            "count     349             349         349         349          349\n",
            "unique     11             341         245         349          258\n",
            "top         6  Fast & Furious  No content   C-Younkin  Apr 4, 2009\n",
            "freq       70               3         105           1           19 \n",
            "\n"
          ]
        }
      ]
    },
    {
      "cell_type": "code",
      "source": [
        "var = 'Rating'  # Categorical variable example\n",
        "print(df4[var].unique(),'\\n')\n",
        "print(df4[var].value_counts(), '\\n') # 13 missing ratings\n",
        "print(df4[var].hist(), '\\n')"
      ],
      "metadata": {
        "colab": {
          "base_uri": "https://localhost:8080/",
          "height": 751
        },
        "id": "VE59HqQuVEQW",
        "outputId": "39765d50-9cb2-458f-97a0-bb94d6a9f65b"
      },
      "execution_count": 37,
      "outputs": [
        {
          "output_type": "stream",
          "name": "stdout",
          "text": [
            "['7' '9' '1' '5' '6' '10' '4' 'No rating' '8' '3' '2'] \n",
            "\n",
            "Rating\n",
            "6            70\n",
            "7            62\n",
            "8            58\n",
            "5            37\n",
            "9            30\n",
            "10           28\n",
            "4            27\n",
            "No rating    13\n",
            "3            13\n",
            "2             7\n",
            "1             4\n",
            "Name: count, dtype: int64 \n",
            "\n",
            "Axes(0.125,0.11;0.775x0.77) \n",
            "\n"
          ]
        },
        {
          "output_type": "display_data",
          "data": {
            "text/plain": [
              "<Figure size 640x480 with 1 Axes>"
            ],
            "image/png": "[encoded data removed]"
          },
          "metadata": {}
        }
      ]
    },
    {
      "cell_type": "code",
      "source": [
        "no_title_count = df4[df4['Title'] == 'No title'].shape[0]\n",
        "print(no_title_count)"
      ],
      "metadata": {
        "colab": {
          "base_uri": "https://localhost:8080/"
        },
        "id": "jVoonUgEVK_m",
        "outputId": "5f3e249c-9cd6-4454-ba10-5bbd0578f02e"
      },
      "execution_count": 39,
      "outputs": [
        {
          "output_type": "stream",
          "name": "stdout",
          "text": [
            "0\n"
          ]
        }
      ]
    },
    {
      "cell_type": "code",
      "source": [
        "no_author_count = df4[df4['Author Name'] == 'No author name'].shape[0]\n",
        "print(no_author_count)"
      ],
      "metadata": {
        "colab": {
          "base_uri": "https://localhost:8080/"
        },
        "id": "R1RTgK-SVnfS",
        "outputId": "3deb2a24-d801-47d8-a341-d7990c1566bb"
      },
      "execution_count": 41,
      "outputs": [
        {
          "output_type": "stream",
          "name": "stdout",
          "text": [
            "0\n"
          ]
        }
      ]
    },
    {
      "cell_type": "code",
      "source": [
        "no_content_count = df4[df4['Content'] == 'No content'].shape[0]\n",
        "print(no_content_count) #105 missing the content/text of review, probably spoilers"
      ],
      "metadata": {
        "colab": {
          "base_uri": "https://localhost:8080/"
        },
        "id": "XGvADcTaVuqp",
        "outputId": "566ca0e6-f51b-4178-b186-52f8633f6f82"
      },
      "execution_count": 42,
      "outputs": [
        {
          "output_type": "stream",
          "name": "stdout",
          "text": [
            "105\n"
          ]
        }
      ]
    },
    {
      "cell_type": "code",
      "source": [
        "no_date_count = df4[df4['Date'] == 'No date'].shape[0]\n",
        "print(no_date_count)"
      ],
      "metadata": {
        "colab": {
          "base_uri": "https://localhost:8080/"
        },
        "id": "WOYi39VSV2xp",
        "outputId": "1a6ecb39-1575-47dc-96f7-bfd1cd2bd021"
      },
      "execution_count": 43,
      "outputs": [
        {
          "output_type": "stream",
          "name": "stdout",
          "text": [
            "0\n"
          ]
        }
      ]
    },
    {
      "cell_type": "code",
      "source": [
        "pd.to_numeric(df4['Rating'], errors='coerce') #converting Rating to float"
      ],
      "metadata": {
        "colab": {
          "base_uri": "https://localhost:8080/",
          "height": 458
        },
        "id": "6e1bSMOjWUrM",
        "outputId": "0d4a4da2-2d87-4a8b-a457-a27af8d5ea00"
      },
      "execution_count": 44,
      "outputs": [
        {
          "output_type": "execute_result",
          "data": {
            "text/plain": [
              "0      7.0\n",
              "1      7.0\n",
              "2      7.0\n",
              "3      7.0\n",
              "4      7.0\n",
              "      ... \n",
              "344    NaN\n",
              "345    NaN\n",
              "346    NaN\n",
              "347    NaN\n",
              "348    NaN\n",
              "Name: Rating, Length: 349, dtype: float64"
            ],
            "text/html": [
              "<div>\n",
              "<style scoped>\n",
              "    .dataframe tbody tr th:only-of-type {\n",
              "        vertical-align: middle;\n",
              "    }\n",
              "\n",
              "    .dataframe tbody tr th {\n",
              "        vertical-align: top;\n",
              "    }\n",
              "\n",
              "    .dataframe thead th {\n",
              "        text-align: right;\n",
              "    }\n",
              "</style>\n",
              "<table border=\"1\" class=\"dataframe\">\n",
              "  <thead>\n",
              "    <tr style=\"text-align: right;\">\n",
              "      <th></th>\n",
              "      <th>Rating</th>\n",
              "    </tr>\n",
              "  </thead>\n",
              "  <tbody>\n",
              "    <tr>\n",
              "      <th>0</th>\n",
              "      <td>7.0</td>\n",
              "    </tr>\n",
              "    <tr>\n",
              "      <th>1</th>\n",
              "      <td>7.0</td>\n",
              "    </tr>\n",
              "    <tr>\n",
              "      <th>2</th>\n",
              "      <td>7.0</td>\n",
              "    </tr>\n",
              "    <tr>\n",
              "      <th>3</th>\n",
              "      <td>7.0</td>\n",
              "    </tr>\n",
              "    <tr>\n",
              "      <th>4</th>\n",
              "      <td>7.0</td>\n",
              "    </tr>\n",
              "    <tr>\n",
              "      <th>...</th>\n",
              "      <td>...</td>\n",
              "    </tr>\n",
              "    <tr>\n",
              "      <th>344</th>\n",
              "      <td>NaN</td>\n",
              "    </tr>\n",
              "    <tr>\n",
              "      <th>345</th>\n",
              "      <td>NaN</td>\n",
              "    </tr>\n",
              "    <tr>\n",
              "      <th>346</th>\n",
              "      <td>NaN</td>\n",
              "    </tr>\n",
              "    <tr>\n",
              "      <th>347</th>\n",
              "      <td>NaN</td>\n",
              "    </tr>\n",
              "    <tr>\n",
              "      <th>348</th>\n",
              "      <td>NaN</td>\n",
              "    </tr>\n",
              "  </tbody>\n",
              "</table>\n",
              "<p>349 rows × 1 columns</p>\n",
              "</div><br><label><b>dtype:</b> float64</label>"
            ]
          },
          "metadata": {},
          "execution_count": 44
        }
      ]
    },
    {
      "cell_type": "code",
      "source": [
        "df4['Date'] = pd.to_datetime(df4['Date']) #converting Date to datetime so its easier for analysis\n",
        "print(df4.dtypes) #checking to make sure it converted properly"
      ],
      "metadata": {
        "colab": {
          "base_uri": "https://localhost:8080/"
        },
        "id": "gcfnPNGUWccD",
        "outputId": "3e62c5c8-b37f-4b2a-9c96-53795f19ca3f"
      },
      "execution_count": 46,
      "outputs": [
        {
          "output_type": "stream",
          "name": "stdout",
          "text": [
            "Rating                 object\n",
            "Title                  object\n",
            "Content                object\n",
            "Author Name            object\n",
            "Date           datetime64[ns]\n",
            "dtype: object\n"
          ]
        }
      ]
    },
    {
      "cell_type": "code",
      "source": [
        "print(df4['Rating'].isnull().sum())\n",
        "print(df4['Title'].isnull().sum())\n",
        "print(df4['Content'].isnull().sum())\n",
        "print(df4['Author Name'].isnull().sum())\n",
        "print(df4['Date'].isnull().sum())"
      ],
      "metadata": {
        "colab": {
          "base_uri": "https://localhost:8080/"
        },
        "id": "Y649rxb3WgZr",
        "outputId": "1b069be7-a2e6-4b45-eea2-97421cf44b92"
      },
      "execution_count": 47,
      "outputs": [
        {
          "output_type": "stream",
          "name": "stdout",
          "text": [
            "0\n",
            "0\n",
            "0\n",
            "0\n",
            "0\n"
          ]
        }
      ]
    },
    {
      "cell_type": "code",
      "source": [
        "#counting how many reviews per year\n",
        "df4['Year'] = df4['Date'].dt.year\n",
        "print(df4['Year'].unique(),'\\n')\n",
        "print(df4['Year'].value_counts(), '\\n')"
      ],
      "metadata": {
        "colab": {
          "base_uri": "https://localhost:8080/"
        },
        "id": "V2EbroNJWo8T",
        "outputId": "c4e6828a-9a34-4782-d39e-67459f603e6b"
      },
      "execution_count": 48,
      "outputs": [
        {
          "output_type": "stream",
          "name": "stdout",
          "text": [
            "[2009 2014 2013 2011 2015 2019 2020 2010 2012 2021 2023 2017 2024 2018\n",
            " 2022 2025 2016] \n",
            "\n",
            "Year\n",
            "2009    148\n",
            "2023     28\n",
            "2021     25\n",
            "2020     20\n",
            "2024     16\n",
            "2019     14\n",
            "2010     14\n",
            "2013     13\n",
            "2015     12\n",
            "2011     11\n",
            "2017     11\n",
            "2014     10\n",
            "2022      8\n",
            "2012      6\n",
            "2018      6\n",
            "2016      4\n",
            "2025      3\n",
            "Name: count, dtype: int64 \n",
            "\n"
          ]
        }
      ]
    }
  ]
}
